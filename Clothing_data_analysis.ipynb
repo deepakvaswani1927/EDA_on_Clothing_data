{
 "cells": [
  {
   "cell_type": "markdown",
   "id": "f4338096",
   "metadata": {},
   "source": [
    "# About data: \n"
   ]
  },
  {
   "cell_type": "markdown",
   "id": "f99f0f21",
   "metadata": {},
   "source": [
    "Store mainly sells \n",
    "1) lingerie\n",
    "2) shoes\n",
    "3) dress/tops"
   ]
  },
  {
   "cell_type": "code",
   "execution_count": 1,
   "id": "7d712d65",
   "metadata": {},
   "outputs": [],
   "source": [
    "import pandas as pd"
   ]
  },
  {
   "cell_type": "code",
   "execution_count": 5,
   "id": "e88c417c",
   "metadata": {},
   "outputs": [
    {
     "data": {
      "text/html": [
       "<div>\n",
       "<style scoped>\n",
       "    .dataframe tbody tr th:only-of-type {\n",
       "        vertical-align: middle;\n",
       "    }\n",
       "\n",
       "    .dataframe tbody tr th {\n",
       "        vertical-align: top;\n",
       "    }\n",
       "\n",
       "    .dataframe thead th {\n",
       "        text-align: right;\n",
       "    }\n",
       "</style>\n",
       "<table border=\"1\" class=\"dataframe\">\n",
       "  <thead>\n",
       "    <tr style=\"text-align: right;\">\n",
       "      <th></th>\n",
       "      <th>item_id</th>\n",
       "      <th>waist</th>\n",
       "      <th>size</th>\n",
       "      <th>quality</th>\n",
       "      <th>cup size</th>\n",
       "      <th>hips</th>\n",
       "      <th>bra size</th>\n",
       "      <th>category</th>\n",
       "      <th>bust</th>\n",
       "      <th>height</th>\n",
       "      <th>user_name</th>\n",
       "      <th>length</th>\n",
       "      <th>fit</th>\n",
       "      <th>user_id</th>\n",
       "      <th>shoe size</th>\n",
       "      <th>shoe width</th>\n",
       "      <th>review_summary</th>\n",
       "      <th>review_text</th>\n",
       "    </tr>\n",
       "  </thead>\n",
       "  <tbody>\n",
       "    <tr>\n",
       "      <th>0</th>\n",
       "      <td>123373</td>\n",
       "      <td>29.0</td>\n",
       "      <td>7</td>\n",
       "      <td>5.0</td>\n",
       "      <td>d</td>\n",
       "      <td>38.0</td>\n",
       "      <td>34.0</td>\n",
       "      <td>new</td>\n",
       "      <td>36</td>\n",
       "      <td>5ft 6in</td>\n",
       "      <td>Emily</td>\n",
       "      <td>just right</td>\n",
       "      <td>small</td>\n",
       "      <td>991571</td>\n",
       "      <td>NaN</td>\n",
       "      <td>NaN</td>\n",
       "      <td>NaN</td>\n",
       "      <td>NaN</td>\n",
       "    </tr>\n",
       "    <tr>\n",
       "      <th>1</th>\n",
       "      <td>123373</td>\n",
       "      <td>31.0</td>\n",
       "      <td>13</td>\n",
       "      <td>3.0</td>\n",
       "      <td>b</td>\n",
       "      <td>30.0</td>\n",
       "      <td>36.0</td>\n",
       "      <td>new</td>\n",
       "      <td>NaN</td>\n",
       "      <td>5ft 2in</td>\n",
       "      <td>sydneybraden2001</td>\n",
       "      <td>just right</td>\n",
       "      <td>small</td>\n",
       "      <td>587883</td>\n",
       "      <td>NaN</td>\n",
       "      <td>NaN</td>\n",
       "      <td>NaN</td>\n",
       "      <td>NaN</td>\n",
       "    </tr>\n",
       "    <tr>\n",
       "      <th>2</th>\n",
       "      <td>123373</td>\n",
       "      <td>30.0</td>\n",
       "      <td>7</td>\n",
       "      <td>2.0</td>\n",
       "      <td>b</td>\n",
       "      <td>NaN</td>\n",
       "      <td>32.0</td>\n",
       "      <td>new</td>\n",
       "      <td>NaN</td>\n",
       "      <td>5ft 7in</td>\n",
       "      <td>Ugggh</td>\n",
       "      <td>slightly long</td>\n",
       "      <td>small</td>\n",
       "      <td>395665</td>\n",
       "      <td>9.0</td>\n",
       "      <td>NaN</td>\n",
       "      <td>NaN</td>\n",
       "      <td>NaN</td>\n",
       "    </tr>\n",
       "    <tr>\n",
       "      <th>3</th>\n",
       "      <td>123373</td>\n",
       "      <td>NaN</td>\n",
       "      <td>21</td>\n",
       "      <td>5.0</td>\n",
       "      <td>dd/e</td>\n",
       "      <td>NaN</td>\n",
       "      <td>NaN</td>\n",
       "      <td>new</td>\n",
       "      <td>NaN</td>\n",
       "      <td>NaN</td>\n",
       "      <td>alexmeyer626</td>\n",
       "      <td>just right</td>\n",
       "      <td>fit</td>\n",
       "      <td>875643</td>\n",
       "      <td>NaN</td>\n",
       "      <td>NaN</td>\n",
       "      <td>NaN</td>\n",
       "      <td>NaN</td>\n",
       "    </tr>\n",
       "    <tr>\n",
       "      <th>4</th>\n",
       "      <td>123373</td>\n",
       "      <td>NaN</td>\n",
       "      <td>18</td>\n",
       "      <td>5.0</td>\n",
       "      <td>b</td>\n",
       "      <td>NaN</td>\n",
       "      <td>36.0</td>\n",
       "      <td>new</td>\n",
       "      <td>NaN</td>\n",
       "      <td>5ft 2in</td>\n",
       "      <td>dberrones1</td>\n",
       "      <td>slightly long</td>\n",
       "      <td>small</td>\n",
       "      <td>944840</td>\n",
       "      <td>NaN</td>\n",
       "      <td>NaN</td>\n",
       "      <td>NaN</td>\n",
       "      <td>NaN</td>\n",
       "    </tr>\n",
       "  </tbody>\n",
       "</table>\n",
       "</div>"
      ],
      "text/plain": [
       "   item_id  waist  size  quality cup size  hips  bra size category bust  \\\n",
       "0   123373   29.0     7      5.0        d  38.0      34.0      new   36   \n",
       "1   123373   31.0    13      3.0        b  30.0      36.0      new  NaN   \n",
       "2   123373   30.0     7      2.0        b   NaN      32.0      new  NaN   \n",
       "3   123373    NaN    21      5.0     dd/e   NaN       NaN      new  NaN   \n",
       "4   123373    NaN    18      5.0        b   NaN      36.0      new  NaN   \n",
       "\n",
       "    height         user_name         length    fit  user_id  shoe size  \\\n",
       "0  5ft 6in             Emily     just right  small   991571        NaN   \n",
       "1  5ft 2in  sydneybraden2001     just right  small   587883        NaN   \n",
       "2  5ft 7in             Ugggh  slightly long  small   395665        9.0   \n",
       "3      NaN      alexmeyer626     just right    fit   875643        NaN   \n",
       "4  5ft 2in        dberrones1  slightly long  small   944840        NaN   \n",
       "\n",
       "  shoe width review_summary review_text  \n",
       "0        NaN            NaN         NaN  \n",
       "1        NaN            NaN         NaN  \n",
       "2        NaN            NaN         NaN  \n",
       "3        NaN            NaN         NaN  \n",
       "4        NaN            NaN         NaN  "
      ]
     },
     "execution_count": 5,
     "metadata": {},
     "output_type": "execute_result"
    }
   ],
   "source": [
    "df = pd.read_json('clothing_data.json',lines=True)\n",
    "df.head()"
   ]
  },
  {
   "cell_type": "code",
   "execution_count": 6,
   "id": "9aea0b48",
   "metadata": {},
   "outputs": [
    {
     "data": {
      "text/plain": [
       "Index(['item_id', 'waist', 'size', 'quality', 'cup size', 'hips', 'bra size',\n",
       "       'category', 'bust', 'height', 'user_name', 'length', 'fit', 'user_id',\n",
       "       'shoe size', 'shoe width', 'review_summary', 'review_text'],\n",
       "      dtype='object')"
      ]
     },
     "execution_count": 6,
     "metadata": {},
     "output_type": "execute_result"
    }
   ],
   "source": [
    "df.columns"
   ]
  },
  {
   "cell_type": "code",
   "execution_count": 7,
   "id": "efcdb27c",
   "metadata": {},
   "outputs": [],
   "source": [
    "df.columns = ['item_id', 'waist', 'size', 'quality', 'cup_size', 'hips', 'bra_size',\n",
    "       'category', 'bust', 'height', 'user_name', 'length',\n",
    "       'fit', 'user_id', 'shoe_size', 'shoe_width', 'review_summary', 'review_text']"
   ]
  },
  {
   "cell_type": "code",
   "execution_count": 8,
   "id": "b89ed80d",
   "metadata": {},
   "outputs": [
    {
     "name": "stdout",
     "output_type": "stream",
     "text": [
      "<class 'pandas.core.frame.DataFrame'>\n",
      "RangeIndex: 82790 entries, 0 to 82789\n",
      "Data columns (total 18 columns):\n",
      " #   Column          Non-Null Count  Dtype  \n",
      "---  ------          --------------  -----  \n",
      " 0   item_id         82790 non-null  int64  \n",
      " 1   waist           2882 non-null   float64\n",
      " 2   size            82790 non-null  int64  \n",
      " 3   quality         82722 non-null  float64\n",
      " 4   cup_size        76535 non-null  object \n",
      " 5   hips            56064 non-null  float64\n",
      " 6   bra_size        76772 non-null  float64\n",
      " 7   category        82790 non-null  object \n",
      " 8   bust            11854 non-null  object \n",
      " 9   height          81683 non-null  object \n",
      " 10  user_name       82790 non-null  object \n",
      " 11  length          82755 non-null  object \n",
      " 12  fit             82790 non-null  object \n",
      " 13  user_id         82790 non-null  int64  \n",
      " 14  shoe_size       27915 non-null  float64\n",
      " 15  shoe_width      18607 non-null  object \n",
      " 16  review_summary  76065 non-null  object \n",
      " 17  review_text     76065 non-null  object \n",
      "dtypes: float64(5), int64(3), object(10)\n",
      "memory usage: 11.4+ MB\n"
     ]
    }
   ],
   "source": [
    "df.info()"
   ]
  },
  {
   "cell_type": "code",
   "execution_count": 10,
   "id": "0a00935b",
   "metadata": {},
   "outputs": [
    {
     "data": {
      "text/html": [
       "<div>\n",
       "<style scoped>\n",
       "    .dataframe tbody tr th:only-of-type {\n",
       "        vertical-align: middle;\n",
       "    }\n",
       "\n",
       "    .dataframe tbody tr th {\n",
       "        vertical-align: top;\n",
       "    }\n",
       "\n",
       "    .dataframe thead th {\n",
       "        text-align: right;\n",
       "    }\n",
       "</style>\n",
       "<table border=\"1\" class=\"dataframe\">\n",
       "  <thead>\n",
       "    <tr style=\"text-align: right;\">\n",
       "      <th></th>\n",
       "      <th>total_missing</th>\n",
       "      <th>percentage_missing</th>\n",
       "    </tr>\n",
       "  </thead>\n",
       "  <tbody>\n",
       "    <tr>\n",
       "      <th>item_id</th>\n",
       "      <td>0</td>\n",
       "      <td>0.000000</td>\n",
       "    </tr>\n",
       "    <tr>\n",
       "      <th>waist</th>\n",
       "      <td>79908</td>\n",
       "      <td>96.518903</td>\n",
       "    </tr>\n",
       "    <tr>\n",
       "      <th>size</th>\n",
       "      <td>0</td>\n",
       "      <td>0.000000</td>\n",
       "    </tr>\n",
       "    <tr>\n",
       "      <th>quality</th>\n",
       "      <td>68</td>\n",
       "      <td>0.082136</td>\n",
       "    </tr>\n",
       "    <tr>\n",
       "      <th>cup_size</th>\n",
       "      <td>6255</td>\n",
       "      <td>7.555260</td>\n",
       "    </tr>\n",
       "    <tr>\n",
       "      <th>hips</th>\n",
       "      <td>26726</td>\n",
       "      <td>32.281677</td>\n",
       "    </tr>\n",
       "    <tr>\n",
       "      <th>bra_size</th>\n",
       "      <td>6018</td>\n",
       "      <td>7.268994</td>\n",
       "    </tr>\n",
       "    <tr>\n",
       "      <th>category</th>\n",
       "      <td>0</td>\n",
       "      <td>0.000000</td>\n",
       "    </tr>\n",
       "    <tr>\n",
       "      <th>bust</th>\n",
       "      <td>70936</td>\n",
       "      <td>85.681846</td>\n",
       "    </tr>\n",
       "    <tr>\n",
       "      <th>height</th>\n",
       "      <td>1107</td>\n",
       "      <td>1.337118</td>\n",
       "    </tr>\n",
       "    <tr>\n",
       "      <th>user_name</th>\n",
       "      <td>0</td>\n",
       "      <td>0.000000</td>\n",
       "    </tr>\n",
       "    <tr>\n",
       "      <th>length</th>\n",
       "      <td>35</td>\n",
       "      <td>0.042276</td>\n",
       "    </tr>\n",
       "    <tr>\n",
       "      <th>fit</th>\n",
       "      <td>0</td>\n",
       "      <td>0.000000</td>\n",
       "    </tr>\n",
       "    <tr>\n",
       "      <th>user_id</th>\n",
       "      <td>0</td>\n",
       "      <td>0.000000</td>\n",
       "    </tr>\n",
       "    <tr>\n",
       "      <th>shoe_size</th>\n",
       "      <td>54875</td>\n",
       "      <td>66.282160</td>\n",
       "    </tr>\n",
       "    <tr>\n",
       "      <th>shoe_width</th>\n",
       "      <td>64183</td>\n",
       "      <td>77.525063</td>\n",
       "    </tr>\n",
       "    <tr>\n",
       "      <th>review_summary</th>\n",
       "      <td>6725</td>\n",
       "      <td>8.122962</td>\n",
       "    </tr>\n",
       "    <tr>\n",
       "      <th>review_text</th>\n",
       "      <td>6725</td>\n",
       "      <td>8.122962</td>\n",
       "    </tr>\n",
       "  </tbody>\n",
       "</table>\n",
       "</div>"
      ],
      "text/plain": [
       "                total_missing  percentage_missing\n",
       "item_id                     0            0.000000\n",
       "waist                   79908           96.518903\n",
       "size                        0            0.000000\n",
       "quality                    68            0.082136\n",
       "cup_size                 6255            7.555260\n",
       "hips                    26726           32.281677\n",
       "bra_size                 6018            7.268994\n",
       "category                    0            0.000000\n",
       "bust                    70936           85.681846\n",
       "height                   1107            1.337118\n",
       "user_name                   0            0.000000\n",
       "length                     35            0.042276\n",
       "fit                         0            0.000000\n",
       "user_id                     0            0.000000\n",
       "shoe_size               54875           66.282160\n",
       "shoe_width              64183           77.525063\n",
       "review_summary           6725            8.122962\n",
       "review_text              6725            8.122962"
      ]
     },
     "execution_count": 10,
     "metadata": {},
     "output_type": "execute_result"
    }
   ],
   "source": [
    "missing_data = pd.DataFrame({'total_missing': df.isnull().sum(), 'percentage_missing': (df.isnull().sum()/82790)*100})\n",
    "missing_data"
   ]
  },
  {
   "cell_type": "code",
   "execution_count": 11,
   "id": "50c796b2",
   "metadata": {},
   "outputs": [
    {
     "data": {
      "text/html": [
       "<div>\n",
       "<style scoped>\n",
       "    .dataframe tbody tr th:only-of-type {\n",
       "        vertical-align: middle;\n",
       "    }\n",
       "\n",
       "    .dataframe tbody tr th {\n",
       "        vertical-align: top;\n",
       "    }\n",
       "\n",
       "    .dataframe thead th {\n",
       "        text-align: right;\n",
       "    }\n",
       "</style>\n",
       "<table border=\"1\" class=\"dataframe\">\n",
       "  <thead>\n",
       "    <tr style=\"text-align: right;\">\n",
       "      <th></th>\n",
       "      <th>item_id</th>\n",
       "      <th>waist</th>\n",
       "      <th>size</th>\n",
       "      <th>quality</th>\n",
       "      <th>hips</th>\n",
       "      <th>bra_size</th>\n",
       "      <th>user_id</th>\n",
       "      <th>shoe_size</th>\n",
       "    </tr>\n",
       "  </thead>\n",
       "  <tbody>\n",
       "    <tr>\n",
       "      <th>count</th>\n",
       "      <td>82790.000000</td>\n",
       "      <td>2882.000000</td>\n",
       "      <td>82790.000000</td>\n",
       "      <td>82722.000000</td>\n",
       "      <td>56064.000000</td>\n",
       "      <td>76772.000000</td>\n",
       "      <td>82790.000000</td>\n",
       "      <td>27915.000000</td>\n",
       "    </tr>\n",
       "    <tr>\n",
       "      <th>mean</th>\n",
       "      <td>469325.229170</td>\n",
       "      <td>31.319223</td>\n",
       "      <td>12.661602</td>\n",
       "      <td>3.949058</td>\n",
       "      <td>40.358501</td>\n",
       "      <td>35.972125</td>\n",
       "      <td>498849.564718</td>\n",
       "      <td>8.145818</td>\n",
       "    </tr>\n",
       "    <tr>\n",
       "      <th>std</th>\n",
       "      <td>213999.803314</td>\n",
       "      <td>5.302849</td>\n",
       "      <td>8.271952</td>\n",
       "      <td>0.992783</td>\n",
       "      <td>5.827166</td>\n",
       "      <td>3.224907</td>\n",
       "      <td>286356.969459</td>\n",
       "      <td>1.336109</td>\n",
       "    </tr>\n",
       "    <tr>\n",
       "      <th>min</th>\n",
       "      <td>123373.000000</td>\n",
       "      <td>20.000000</td>\n",
       "      <td>0.000000</td>\n",
       "      <td>1.000000</td>\n",
       "      <td>30.000000</td>\n",
       "      <td>28.000000</td>\n",
       "      <td>6.000000</td>\n",
       "      <td>5.000000</td>\n",
       "    </tr>\n",
       "    <tr>\n",
       "      <th>25%</th>\n",
       "      <td>314980.000000</td>\n",
       "      <td>28.000000</td>\n",
       "      <td>8.000000</td>\n",
       "      <td>3.000000</td>\n",
       "      <td>36.000000</td>\n",
       "      <td>34.000000</td>\n",
       "      <td>252897.750000</td>\n",
       "      <td>7.000000</td>\n",
       "    </tr>\n",
       "    <tr>\n",
       "      <th>50%</th>\n",
       "      <td>454030.000000</td>\n",
       "      <td>30.000000</td>\n",
       "      <td>12.000000</td>\n",
       "      <td>4.000000</td>\n",
       "      <td>39.000000</td>\n",
       "      <td>36.000000</td>\n",
       "      <td>497913.500000</td>\n",
       "      <td>8.000000</td>\n",
       "    </tr>\n",
       "    <tr>\n",
       "      <th>75%</th>\n",
       "      <td>658440.000000</td>\n",
       "      <td>34.000000</td>\n",
       "      <td>15.000000</td>\n",
       "      <td>5.000000</td>\n",
       "      <td>43.000000</td>\n",
       "      <td>38.000000</td>\n",
       "      <td>744745.250000</td>\n",
       "      <td>9.000000</td>\n",
       "    </tr>\n",
       "    <tr>\n",
       "      <th>max</th>\n",
       "      <td>807722.000000</td>\n",
       "      <td>50.000000</td>\n",
       "      <td>38.000000</td>\n",
       "      <td>5.000000</td>\n",
       "      <td>60.000000</td>\n",
       "      <td>48.000000</td>\n",
       "      <td>999972.000000</td>\n",
       "      <td>38.000000</td>\n",
       "    </tr>\n",
       "  </tbody>\n",
       "</table>\n",
       "</div>"
      ],
      "text/plain": [
       "             item_id        waist          size       quality          hips  \\\n",
       "count   82790.000000  2882.000000  82790.000000  82722.000000  56064.000000   \n",
       "mean   469325.229170    31.319223     12.661602      3.949058     40.358501   \n",
       "std    213999.803314     5.302849      8.271952      0.992783      5.827166   \n",
       "min    123373.000000    20.000000      0.000000      1.000000     30.000000   \n",
       "25%    314980.000000    28.000000      8.000000      3.000000     36.000000   \n",
       "50%    454030.000000    30.000000     12.000000      4.000000     39.000000   \n",
       "75%    658440.000000    34.000000     15.000000      5.000000     43.000000   \n",
       "max    807722.000000    50.000000     38.000000      5.000000     60.000000   \n",
       "\n",
       "           bra_size        user_id     shoe_size  \n",
       "count  76772.000000   82790.000000  27915.000000  \n",
       "mean      35.972125  498849.564718      8.145818  \n",
       "std        3.224907  286356.969459      1.336109  \n",
       "min       28.000000       6.000000      5.000000  \n",
       "25%       34.000000  252897.750000      7.000000  \n",
       "50%       36.000000  497913.500000      8.000000  \n",
       "75%       38.000000  744745.250000      9.000000  \n",
       "max       48.000000  999972.000000     38.000000  "
      ]
     },
     "execution_count": 11,
     "metadata": {},
     "output_type": "execute_result"
    }
   ],
   "source": [
    "df.describe()"
   ]
  },
  {
   "cell_type": "code",
   "execution_count": 21,
   "id": "7f727949",
   "metadata": {},
   "outputs": [],
   "source": [
    "import matplotlib.pyplot as plt"
   ]
  },
  {
   "cell_type": "code",
   "execution_count": 13,
   "id": "d91f07c9",
   "metadata": {},
   "outputs": [
    {
     "data": {
      "image/png": "[encoded data removed]",
      "text/plain": [
       "<Figure size 1152x648 with 1 Axes>"
      ]
     },
     "metadata": {
      "needs_background": "light"
     },
     "output_type": "display_data"
    }
   ],
   "source": [
    "numerical_variables = ['bra_size','hips','quality','shoe_size','size','waist']\n",
    "plt.figure(figsize=(16,9))\n",
    "df[numerical_variables].boxplot()\n",
    "plt.title(\"Numerical variables in our clothing dataset\")\n",
    "plt.show()"
   ]
  },
  {
   "cell_type": "markdown",
   "id": "6b396fba",
   "metadata": {},
   "source": [
    "Shoe size has only one outlier that we can see and it 38 only"
   ]
  },
  {
   "cell_type": "code",
   "execution_count": 14,
   "id": "d76e7b4b",
   "metadata": {},
   "outputs": [
    {
     "data": {
      "text/html": [
       "<div>\n",
       "<style scoped>\n",
       "    .dataframe tbody tr th:only-of-type {\n",
       "        vertical-align: middle;\n",
       "    }\n",
       "\n",
       "    .dataframe tbody tr th {\n",
       "        vertical-align: top;\n",
       "    }\n",
       "\n",
       "    .dataframe thead th {\n",
       "        text-align: right;\n",
       "    }\n",
       "</style>\n",
       "<table border=\"1\" class=\"dataframe\">\n",
       "  <thead>\n",
       "    <tr style=\"text-align: right;\">\n",
       "      <th></th>\n",
       "      <th>item_id</th>\n",
       "      <th>waist</th>\n",
       "      <th>size</th>\n",
       "      <th>quality</th>\n",
       "      <th>cup_size</th>\n",
       "      <th>hips</th>\n",
       "      <th>bra_size</th>\n",
       "      <th>category</th>\n",
       "      <th>bust</th>\n",
       "      <th>height</th>\n",
       "      <th>user_name</th>\n",
       "      <th>length</th>\n",
       "      <th>fit</th>\n",
       "      <th>user_id</th>\n",
       "      <th>shoe_size</th>\n",
       "      <th>shoe_width</th>\n",
       "      <th>review_summary</th>\n",
       "      <th>review_text</th>\n",
       "    </tr>\n",
       "  </thead>\n",
       "  <tbody>\n",
       "    <tr>\n",
       "      <th>37313</th>\n",
       "      <td>416942</td>\n",
       "      <td>35.0</td>\n",
       "      <td>12</td>\n",
       "      <td>5.0</td>\n",
       "      <td>d</td>\n",
       "      <td>46.0</td>\n",
       "      <td>36.0</td>\n",
       "      <td>new</td>\n",
       "      <td>37-39</td>\n",
       "      <td>5ft 5in</td>\n",
       "      <td>Catslittle</td>\n",
       "      <td>just right</td>\n",
       "      <td>fit</td>\n",
       "      <td>237498</td>\n",
       "      <td>38.0</td>\n",
       "      <td>average</td>\n",
       "      <td>Cardigans are best item Mod Cloth has</td>\n",
       "      <td>I love these cardigans, my favorite, good fabr...</td>\n",
       "    </tr>\n",
       "  </tbody>\n",
       "</table>\n",
       "</div>"
      ],
      "text/plain": [
       "       item_id  waist  size  quality cup_size  hips  bra_size category   bust  \\\n",
       "37313   416942   35.0    12      5.0        d  46.0      36.0      new  37-39   \n",
       "\n",
       "        height   user_name      length  fit  user_id  shoe_size shoe_width  \\\n",
       "37313  5ft 5in  Catslittle  just right  fit   237498       38.0    average   \n",
       "\n",
       "                              review_summary  \\\n",
       "37313  Cardigans are best item Mod Cloth has   \n",
       "\n",
       "                                             review_text  \n",
       "37313  I love these cardigans, my favorite, good fabr...  "
      ]
     },
     "execution_count": 14,
     "metadata": {},
     "output_type": "execute_result"
    }
   ],
   "source": [
    "df[df.shoe_size == 38]"
   ]
  },
  {
   "cell_type": "markdown",
   "id": "ff84866f",
   "metadata": {},
   "source": [
    "all other entries are somewhat legit , entering null into it"
   ]
  },
  {
   "cell_type": "code",
   "execution_count": 15,
   "id": "14f35dc9",
   "metadata": {},
   "outputs": [],
   "source": [
    "df.at[37313,'shoe_size'] = None"
   ]
  },
  {
   "cell_type": "markdown",
   "id": "cfefebe7",
   "metadata": {},
   "source": [
    "boxplot showing 2 outliers for bra_size"
   ]
  },
  {
   "cell_type": "code",
   "execution_count": 18,
   "id": "952102dd",
   "metadata": {
    "scrolled": true
   },
   "outputs": [
    {
     "data": {
      "text/html": [
       "<div>\n",
       "<style scoped>\n",
       "    .dataframe tbody tr th:only-of-type {\n",
       "        vertical-align: middle;\n",
       "    }\n",
       "\n",
       "    .dataframe tbody tr th {\n",
       "        vertical-align: top;\n",
       "    }\n",
       "\n",
       "    .dataframe thead th {\n",
       "        text-align: right;\n",
       "    }\n",
       "</style>\n",
       "<table border=\"1\" class=\"dataframe\">\n",
       "  <thead>\n",
       "    <tr style=\"text-align: right;\">\n",
       "      <th></th>\n",
       "      <th>item_id</th>\n",
       "      <th>waist</th>\n",
       "      <th>size</th>\n",
       "      <th>quality</th>\n",
       "      <th>cup_size</th>\n",
       "      <th>hips</th>\n",
       "      <th>bra_size</th>\n",
       "      <th>category</th>\n",
       "      <th>bust</th>\n",
       "      <th>height</th>\n",
       "      <th>user_name</th>\n",
       "      <th>length</th>\n",
       "      <th>fit</th>\n",
       "      <th>user_id</th>\n",
       "      <th>shoe_size</th>\n",
       "      <th>shoe_width</th>\n",
       "      <th>review_summary</th>\n",
       "      <th>review_text</th>\n",
       "    </tr>\n",
       "  </thead>\n",
       "  <tbody>\n",
       "    <tr>\n",
       "      <th>73118</th>\n",
       "      <td>753429</td>\n",
       "      <td>NaN</td>\n",
       "      <td>38</td>\n",
       "      <td>3.0</td>\n",
       "      <td>dd/e</td>\n",
       "      <td>NaN</td>\n",
       "      <td>48.0</td>\n",
       "      <td>bottoms</td>\n",
       "      <td>NaN</td>\n",
       "      <td>5ft 4in</td>\n",
       "      <td>Mikki</td>\n",
       "      <td>slightly long</td>\n",
       "      <td>large</td>\n",
       "      <td>93792</td>\n",
       "      <td>NaN</td>\n",
       "      <td>NaN</td>\n",
       "      <td>I probably should have or</td>\n",
       "      <td>I probably should have ordered a size down, bu...</td>\n",
       "    </tr>\n",
       "    <tr>\n",
       "      <th>80713</th>\n",
       "      <td>796383</td>\n",
       "      <td>NaN</td>\n",
       "      <td>12</td>\n",
       "      <td>4.0</td>\n",
       "      <td>k</td>\n",
       "      <td>60.0</td>\n",
       "      <td>48.0</td>\n",
       "      <td>outerwear</td>\n",
       "      <td>NaN</td>\n",
       "      <td>7ft 11in</td>\n",
       "      <td>bandnerd2522</td>\n",
       "      <td>just right</td>\n",
       "      <td>small</td>\n",
       "      <td>810539</td>\n",
       "      <td>11.5</td>\n",
       "      <td>average</td>\n",
       "      <td>This jacket is lovely, bu</td>\n",
       "      <td>This jacket is lovely, but I couldn't move my ...</td>\n",
       "    </tr>\n",
       "    <tr>\n",
       "      <th>28901</th>\n",
       "      <td>401773</td>\n",
       "      <td>NaN</td>\n",
       "      <td>38</td>\n",
       "      <td>4.0</td>\n",
       "      <td>dd/e</td>\n",
       "      <td>58.0</td>\n",
       "      <td>48.0</td>\n",
       "      <td>new</td>\n",
       "      <td>NaN</td>\n",
       "      <td>5ft 7in</td>\n",
       "      <td>barretts4jesus</td>\n",
       "      <td>just right</td>\n",
       "      <td>fit</td>\n",
       "      <td>59963</td>\n",
       "      <td>NaN</td>\n",
       "      <td>NaN</td>\n",
       "      <td>Wonderful cardigan. I hav</td>\n",
       "      <td>Wonderful cardigan. I have the honey one as we...</td>\n",
       "    </tr>\n",
       "    <tr>\n",
       "      <th>71407</th>\n",
       "      <td>726492</td>\n",
       "      <td>NaN</td>\n",
       "      <td>15</td>\n",
       "      <td>3.0</td>\n",
       "      <td>k</td>\n",
       "      <td>60.0</td>\n",
       "      <td>48.0</td>\n",
       "      <td>bottoms</td>\n",
       "      <td>NaN</td>\n",
       "      <td>7ft 11in</td>\n",
       "      <td>bandnerd2522</td>\n",
       "      <td>slightly short</td>\n",
       "      <td>fit</td>\n",
       "      <td>708288</td>\n",
       "      <td>11.5</td>\n",
       "      <td>average</td>\n",
       "      <td>The pattern is just as lo</td>\n",
       "      <td>The pattern is just as lovely in person, as in...</td>\n",
       "    </tr>\n",
       "    <tr>\n",
       "      <th>38125</th>\n",
       "      <td>417269</td>\n",
       "      <td>NaN</td>\n",
       "      <td>38</td>\n",
       "      <td>3.0</td>\n",
       "      <td>d</td>\n",
       "      <td>35.0</td>\n",
       "      <td>48.0</td>\n",
       "      <td>new</td>\n",
       "      <td>NaN</td>\n",
       "      <td>5ft 9in</td>\n",
       "      <td>Susan</td>\n",
       "      <td>just right</td>\n",
       "      <td>large</td>\n",
       "      <td>308819</td>\n",
       "      <td>NaN</td>\n",
       "      <td>NaN</td>\n",
       "      <td>I wish I could have gotte</td>\n",
       "      <td>I wish I could have gotten the 3x but it's sti...</td>\n",
       "    </tr>\n",
       "  </tbody>\n",
       "</table>\n",
       "</div>"
      ],
      "text/plain": [
       "       item_id  waist  size  quality cup_size  hips  bra_size   category bust  \\\n",
       "73118   753429    NaN    38      3.0     dd/e   NaN      48.0    bottoms  NaN   \n",
       "80713   796383    NaN    12      4.0        k  60.0      48.0  outerwear  NaN   \n",
       "28901   401773    NaN    38      4.0     dd/e  58.0      48.0        new  NaN   \n",
       "71407   726492    NaN    15      3.0        k  60.0      48.0    bottoms  NaN   \n",
       "38125   417269    NaN    38      3.0        d  35.0      48.0        new  NaN   \n",
       "\n",
       "         height       user_name          length    fit  user_id  shoe_size  \\\n",
       "73118   5ft 4in           Mikki   slightly long  large    93792        NaN   \n",
       "80713  7ft 11in    bandnerd2522      just right  small   810539       11.5   \n",
       "28901   5ft 7in  barretts4jesus      just right    fit    59963        NaN   \n",
       "71407  7ft 11in    bandnerd2522  slightly short    fit   708288       11.5   \n",
       "38125   5ft 9in           Susan      just right  large   308819        NaN   \n",
       "\n",
       "      shoe_width             review_summary  \\\n",
       "73118        NaN  I probably should have or   \n",
       "80713    average  This jacket is lovely, bu   \n",
       "28901        NaN  Wonderful cardigan. I hav   \n",
       "71407    average  The pattern is just as lo   \n",
       "38125        NaN  I wish I could have gotte   \n",
       "\n",
       "                                             review_text  \n",
       "73118  I probably should have ordered a size down, bu...  \n",
       "80713  This jacket is lovely, but I couldn't move my ...  \n",
       "28901  Wonderful cardigan. I have the honey one as we...  \n",
       "71407  The pattern is just as lovely in person, as in...  \n",
       "38125  I wish I could have gotten the 3x but it's sti...  "
      ]
     },
     "execution_count": 18,
     "metadata": {},
     "output_type": "execute_result"
    }
   ],
   "source": [
    "df.sort_values(by=['bra_size'], ascending=False).head(5)"
   ]
  },
  {
   "cell_type": "markdown",
   "id": "bcabce08",
   "metadata": {},
   "source": [
    "# Cleaning "
   ]
  },
  {
   "cell_type": "code",
   "execution_count": null,
   "id": "c643e910",
   "metadata": {},
   "outputs": [],
   "source": [
    "def plot_dist(col, ax):\n",
    "    df[col][df[col].notnull()].value_counts().plot('bar', facecolor='y', ax=ax)\n",
    "    return ax\n",
    "\n",
    "f, ax = plt.subplots(3,3, figsize = (22,15))\n",
    "f.tight_layout(h_pad=9, w_pad=2, rect=[0, 0.03, 1, 0.93])\n",
    "cols = ['bra_size','bust', 'category', 'cup_size', 'fit', 'height', 'hips', 'length', 'quality']\n",
    "k = 0\n",
    "for i in range(3):\n",
    "    for j in range(3):\n",
    "        plot_dist(cols[k], ax[i][j])\n",
    "        k += 1\n",
    "     "
   ]
  },
  {
   "cell_type": "code",
   "execution_count": 33,
   "id": "30ca062b",
   "metadata": {
    "scrolled": false
   },
   "outputs": [
    {
     "data": {
      "text/plain": [
       "<AxesSubplot:>"
      ]
     },
     "execution_count": 33,
     "metadata": {},
     "output_type": "execute_result"
    },
    {
     "data": {
      "image/png": "[encoded data removed]",
      "text/plain": [
       "<Figure size 432x288 with 1 Axes>"
      ]
     },
     "metadata": {
      "needs_background": "light"
     },
     "output_type": "display_data"
    }
   ],
   "source": [
    "df['bra_size'][df['bra_size'].notnull()].value_counts().plot(kind='bar', facecolor='g')"
   ]
  },
  {
   "cell_type": "code",
   "execution_count": 34,
   "id": "8499b695",
   "metadata": {},
   "outputs": [],
   "source": [
    "df.bra_size= df.bra_size.fillna('Unknown')"
   ]
  },
  {
   "cell_type": "code",
   "execution_count": 35,
   "id": "b7c54859",
   "metadata": {},
   "outputs": [],
   "source": [
    "df.bra_size = df.bra_size.astype('category').cat.as_ordered()"
   ]
  },
  {
   "cell_type": "code",
   "execution_count": 36,
   "id": "f8f53d59",
   "metadata": {},
   "outputs": [
    {
     "data": {
      "text/plain": [
       "<AxesSubplot:>"
      ]
     },
     "execution_count": 36,
     "metadata": {},
     "output_type": "execute_result"
    },
    {
     "data": {
      "image/png": "[encoded data removed]",
      "text/plain": [
       "<Figure size 432x288 with 1 Axes>"
      ]
     },
     "metadata": {
      "needs_background": "light"
     },
     "output_type": "display_data"
    }
   ],
   "source": [
    "df['bust'][df['bust'].notnull()].value_counts().plot(kind='bar', facecolor='g')"
   ]
  },
  {
   "cell_type": "markdown",
   "id": "a61c6e26",
   "metadata": {},
   "source": [
    "one entry has value '37-39' should replace it with 38 "
   ]
  },
  {
   "cell_type": "code",
   "execution_count": 39,
   "id": "f5197cca",
   "metadata": {
    "scrolled": false
   },
   "outputs": [
    {
     "data": {
      "text/html": [
       "<div>\n",
       "<style scoped>\n",
       "    .dataframe tbody tr th:only-of-type {\n",
       "        vertical-align: middle;\n",
       "    }\n",
       "\n",
       "    .dataframe tbody tr th {\n",
       "        vertical-align: top;\n",
       "    }\n",
       "\n",
       "    .dataframe thead th {\n",
       "        text-align: right;\n",
       "    }\n",
       "</style>\n",
       "<table border=\"1\" class=\"dataframe\">\n",
       "  <thead>\n",
       "    <tr style=\"text-align: right;\">\n",
       "      <th></th>\n",
       "      <th>item_id</th>\n",
       "      <th>waist</th>\n",
       "      <th>size</th>\n",
       "      <th>quality</th>\n",
       "      <th>cup_size</th>\n",
       "      <th>hips</th>\n",
       "      <th>bra_size</th>\n",
       "      <th>category</th>\n",
       "      <th>bust</th>\n",
       "      <th>height</th>\n",
       "      <th>user_name</th>\n",
       "      <th>length</th>\n",
       "      <th>fit</th>\n",
       "      <th>user_id</th>\n",
       "      <th>shoe_size</th>\n",
       "      <th>shoe_width</th>\n",
       "      <th>review_summary</th>\n",
       "      <th>review_text</th>\n",
       "    </tr>\n",
       "  </thead>\n",
       "  <tbody>\n",
       "    <tr>\n",
       "      <th>37313</th>\n",
       "      <td>416942</td>\n",
       "      <td>35.0</td>\n",
       "      <td>12</td>\n",
       "      <td>5.0</td>\n",
       "      <td>d</td>\n",
       "      <td>46.0</td>\n",
       "      <td>36.0</td>\n",
       "      <td>new</td>\n",
       "      <td>37-39</td>\n",
       "      <td>5ft 5in</td>\n",
       "      <td>Catslittle</td>\n",
       "      <td>just right</td>\n",
       "      <td>fit</td>\n",
       "      <td>237498</td>\n",
       "      <td>NaN</td>\n",
       "      <td>average</td>\n",
       "      <td>Cardigans are best item Mod Cloth has</td>\n",
       "      <td>I love these cardigans, my favorite, good fabr...</td>\n",
       "    </tr>\n",
       "  </tbody>\n",
       "</table>\n",
       "</div>"
      ],
      "text/plain": [
       "       item_id  waist  size  quality cup_size  hips bra_size category   bust  \\\n",
       "37313   416942   35.0    12      5.0        d  46.0     36.0      new  37-39   \n",
       "\n",
       "        height   user_name      length  fit  user_id  shoe_size shoe_width  \\\n",
       "37313  5ft 5in  Catslittle  just right  fit   237498        NaN    average   \n",
       "\n",
       "                              review_summary  \\\n",
       "37313  Cardigans are best item Mod Cloth has   \n",
       "\n",
       "                                             review_text  \n",
       "37313  I love these cardigans, my favorite, good fabr...  "
      ]
     },
     "execution_count": 39,
     "metadata": {},
     "output_type": "execute_result"
    }
   ],
   "source": [
    "df[df.bust== '37-39']"
   ]
  },
  {
   "cell_type": "markdown",
   "id": "8bb49f2e",
   "metadata": {},
   "source": [
    "around 86% of the data in bust is missing , thinking of removing it "
   ]
  },
  {
   "cell_type": "code",
   "execution_count": 40,
   "id": "7a055d8b",
   "metadata": {},
   "outputs": [],
   "source": [
    "df.at[37313,'bust'] = 38"
   ]
  },
  {
   "cell_type": "code",
   "execution_count": 42,
   "id": "8104c102",
   "metadata": {},
   "outputs": [
    {
     "data": {
      "text/plain": [
       "38"
      ]
     },
     "execution_count": 42,
     "metadata": {},
     "output_type": "execute_result"
    }
   ],
   "source": [
    "df.at[37313,'bust'] "
   ]
  },
  {
   "cell_type": "code",
   "execution_count": 43,
   "id": "3e30863e",
   "metadata": {},
   "outputs": [],
   "source": [
    "df.bust= df.bust.fillna(0).astype(int)"
   ]
  },
  {
   "cell_type": "code",
   "execution_count": 45,
   "id": "a3f31707",
   "metadata": {},
   "outputs": [
    {
     "data": {
      "text/plain": [
       "<AxesSubplot:>"
      ]
     },
     "execution_count": 45,
     "metadata": {},
     "output_type": "execute_result"
    },
    {
     "data": {
      "image/png": "[encoded data removed]",
      "text/plain": [
       "<Figure size 432x288 with 1 Axes>"
      ]
     },
     "metadata": {
      "needs_background": "light"
     },
     "output_type": "display_data"
    }
   ],
   "source": [
    "df['category'][df['category'].notnull()].value_counts().plot(kind='bar', facecolor='g')"
   ]
  },
  {
   "cell_type": "code",
   "execution_count": 44,
   "id": "9d254d97",
   "metadata": {},
   "outputs": [],
   "source": [
    "df.category= df.category.astype('category')"
   ]
  },
  {
   "cell_type": "code",
   "execution_count": 48,
   "id": "b04cc992",
   "metadata": {},
   "outputs": [
    {
     "data": {
      "text/plain": [
       "<AxesSubplot:>"
      ]
     },
     "execution_count": 48,
     "metadata": {},
     "output_type": "execute_result"
    },
    {
     "data": {
      "image/png": "[encoded data removed]",
      "text/plain": [
       "<Figure size 432x288 with 1 Axes>"
      ]
     },
     "metadata": {
      "needs_background": "light"
     },
     "output_type": "display_data"
    }
   ],
   "source": [
    "df['fit'][df['fit'].notnull()].value_counts().plot(kind='bar', facecolor='g')"
   ]
  },
  {
   "cell_type": "code",
   "execution_count": 46,
   "id": "7310743d",
   "metadata": {},
   "outputs": [],
   "source": [
    "df.fit = df.fit.astype('category')"
   ]
  },
  {
   "cell_type": "code",
   "execution_count": 49,
   "id": "8661c03f",
   "metadata": {},
   "outputs": [
    {
     "data": {
      "text/plain": [
       "<AxesSubplot:>"
      ]
     },
     "execution_count": 49,
     "metadata": {},
     "output_type": "execute_result"
    },
    {
     "data": {
      "image/png": "[encoded data removed]",
      "text/plain": [
       "<Figure size 432x288 with 1 Axes>"
      ]
     },
     "metadata": {
      "needs_background": "light"
     },
     "output_type": "display_data"
    }
   ],
   "source": [
    "df['cup_size'][df['cup_size'].notnull()].value_counts().plot(kind='bar', facecolor='g')"
   ]
  },
  {
   "cell_type": "code",
   "execution_count": 47,
   "id": "17e9a24a",
   "metadata": {},
   "outputs": [],
   "source": [
    "df.cup_size.fillna('Unknown', inplace=True)\n",
    "df.cup_size = df.cup_size.astype('category').cat.as_ordered()"
   ]
  },
  {
   "cell_type": "code",
   "execution_count": 50,
   "id": "1c505664",
   "metadata": {},
   "outputs": [
    {
     "data": {
      "text/plain": [
       "<AxesSubplot:>"
      ]
     },
     "execution_count": 50,
     "metadata": {},
     "output_type": "execute_result"
    },
    {
     "data": {
      "image/png": "[encoded data removed]",
      "text/plain": [
       "<Figure size 432x288 with 1 Axes>"
      ]
     },
     "metadata": {
      "needs_background": "light"
     },
     "output_type": "display_data"
    }
   ],
   "source": [
    "df['height'][df['height'].notnull()].value_counts().plot(kind='bar', facecolor='g')"
   ]
  },
  {
   "cell_type": "markdown",
   "id": "443949a4",
   "metadata": {},
   "source": [
    "height column has confusing values in feets should convert it into cms"
   ]
  },
  {
   "cell_type": "code",
   "execution_count": 51,
   "id": "87e8f565",
   "metadata": {},
   "outputs": [],
   "source": [
    "def get_cms(x):\n",
    "    if type(x) == type(1.0):\n",
    "        return\n",
    "    try: \n",
    "        return (int(x[0])*30.48) + (int(x[4:-2])*2.54)\n",
    "    except:\n",
    "        return (int(x[0])*30.48)\n",
    "df.height = df.height.apply(get_cms)"
   ]
  },
  {
   "cell_type": "code",
   "execution_count": 52,
   "id": "f95fea22",
   "metadata": {},
   "outputs": [
    {
     "data": {
      "text/html": [
       "<div>\n",
       "<style scoped>\n",
       "    .dataframe tbody tr th:only-of-type {\n",
       "        vertical-align: middle;\n",
       "    }\n",
       "\n",
       "    .dataframe tbody tr th {\n",
       "        vertical-align: top;\n",
       "    }\n",
       "\n",
       "    .dataframe thead th {\n",
       "        text-align: right;\n",
       "    }\n",
       "</style>\n",
       "<table border=\"1\" class=\"dataframe\">\n",
       "  <thead>\n",
       "    <tr style=\"text-align: right;\">\n",
       "      <th></th>\n",
       "      <th>item_id</th>\n",
       "      <th>waist</th>\n",
       "      <th>size</th>\n",
       "      <th>quality</th>\n",
       "      <th>cup_size</th>\n",
       "      <th>hips</th>\n",
       "      <th>bra_size</th>\n",
       "      <th>category</th>\n",
       "      <th>bust</th>\n",
       "      <th>height</th>\n",
       "      <th>user_name</th>\n",
       "      <th>length</th>\n",
       "      <th>fit</th>\n",
       "      <th>user_id</th>\n",
       "      <th>shoe_size</th>\n",
       "      <th>shoe_width</th>\n",
       "      <th>review_summary</th>\n",
       "      <th>review_text</th>\n",
       "    </tr>\n",
       "  </thead>\n",
       "  <tbody>\n",
       "    <tr>\n",
       "      <th>0</th>\n",
       "      <td>123373</td>\n",
       "      <td>29.0</td>\n",
       "      <td>7</td>\n",
       "      <td>5.0</td>\n",
       "      <td>d</td>\n",
       "      <td>38.0</td>\n",
       "      <td>34.0</td>\n",
       "      <td>new</td>\n",
       "      <td>36</td>\n",
       "      <td>167.64</td>\n",
       "      <td>Emily</td>\n",
       "      <td>just right</td>\n",
       "      <td>small</td>\n",
       "      <td>991571</td>\n",
       "      <td>NaN</td>\n",
       "      <td>NaN</td>\n",
       "      <td>NaN</td>\n",
       "      <td>NaN</td>\n",
       "    </tr>\n",
       "    <tr>\n",
       "      <th>1</th>\n",
       "      <td>123373</td>\n",
       "      <td>31.0</td>\n",
       "      <td>13</td>\n",
       "      <td>3.0</td>\n",
       "      <td>b</td>\n",
       "      <td>30.0</td>\n",
       "      <td>36.0</td>\n",
       "      <td>new</td>\n",
       "      <td>0</td>\n",
       "      <td>157.48</td>\n",
       "      <td>sydneybraden2001</td>\n",
       "      <td>just right</td>\n",
       "      <td>small</td>\n",
       "      <td>587883</td>\n",
       "      <td>NaN</td>\n",
       "      <td>NaN</td>\n",
       "      <td>NaN</td>\n",
       "      <td>NaN</td>\n",
       "    </tr>\n",
       "    <tr>\n",
       "      <th>2</th>\n",
       "      <td>123373</td>\n",
       "      <td>30.0</td>\n",
       "      <td>7</td>\n",
       "      <td>2.0</td>\n",
       "      <td>b</td>\n",
       "      <td>NaN</td>\n",
       "      <td>32.0</td>\n",
       "      <td>new</td>\n",
       "      <td>0</td>\n",
       "      <td>170.18</td>\n",
       "      <td>Ugggh</td>\n",
       "      <td>slightly long</td>\n",
       "      <td>small</td>\n",
       "      <td>395665</td>\n",
       "      <td>9.0</td>\n",
       "      <td>NaN</td>\n",
       "      <td>NaN</td>\n",
       "      <td>NaN</td>\n",
       "    </tr>\n",
       "    <tr>\n",
       "      <th>3</th>\n",
       "      <td>123373</td>\n",
       "      <td>NaN</td>\n",
       "      <td>21</td>\n",
       "      <td>5.0</td>\n",
       "      <td>dd/e</td>\n",
       "      <td>NaN</td>\n",
       "      <td>Unknown</td>\n",
       "      <td>new</td>\n",
       "      <td>0</td>\n",
       "      <td>NaN</td>\n",
       "      <td>alexmeyer626</td>\n",
       "      <td>just right</td>\n",
       "      <td>fit</td>\n",
       "      <td>875643</td>\n",
       "      <td>NaN</td>\n",
       "      <td>NaN</td>\n",
       "      <td>NaN</td>\n",
       "      <td>NaN</td>\n",
       "    </tr>\n",
       "    <tr>\n",
       "      <th>4</th>\n",
       "      <td>123373</td>\n",
       "      <td>NaN</td>\n",
       "      <td>18</td>\n",
       "      <td>5.0</td>\n",
       "      <td>b</td>\n",
       "      <td>NaN</td>\n",
       "      <td>36.0</td>\n",
       "      <td>new</td>\n",
       "      <td>0</td>\n",
       "      <td>157.48</td>\n",
       "      <td>dberrones1</td>\n",
       "      <td>slightly long</td>\n",
       "      <td>small</td>\n",
       "      <td>944840</td>\n",
       "      <td>NaN</td>\n",
       "      <td>NaN</td>\n",
       "      <td>NaN</td>\n",
       "      <td>NaN</td>\n",
       "    </tr>\n",
       "  </tbody>\n",
       "</table>\n",
       "</div>"
      ],
      "text/plain": [
       "   item_id  waist  size  quality cup_size  hips bra_size category  bust  \\\n",
       "0   123373   29.0     7      5.0        d  38.0     34.0      new    36   \n",
       "1   123373   31.0    13      3.0        b  30.0     36.0      new     0   \n",
       "2   123373   30.0     7      2.0        b   NaN     32.0      new     0   \n",
       "3   123373    NaN    21      5.0     dd/e   NaN  Unknown      new     0   \n",
       "4   123373    NaN    18      5.0        b   NaN     36.0      new     0   \n",
       "\n",
       "   height         user_name         length    fit  user_id  shoe_size  \\\n",
       "0  167.64             Emily     just right  small   991571        NaN   \n",
       "1  157.48  sydneybraden2001     just right  small   587883        NaN   \n",
       "2  170.18             Ugggh  slightly long  small   395665        9.0   \n",
       "3     NaN      alexmeyer626     just right    fit   875643        NaN   \n",
       "4  157.48        dberrones1  slightly long  small   944840        NaN   \n",
       "\n",
       "  shoe_width review_summary review_text  \n",
       "0        NaN            NaN         NaN  \n",
       "1        NaN            NaN         NaN  \n",
       "2        NaN            NaN         NaN  \n",
       "3        NaN            NaN         NaN  \n",
       "4        NaN            NaN         NaN  "
      ]
     },
     "execution_count": 52,
     "metadata": {},
     "output_type": "execute_result"
    }
   ],
   "source": [
    "df.head()"
   ]
  },
  {
   "cell_type": "code",
   "execution_count": 53,
   "id": "7f0df62c",
   "metadata": {},
   "outputs": [
    {
     "data": {
      "text/html": [
       "<div>\n",
       "<style scoped>\n",
       "    .dataframe tbody tr th:only-of-type {\n",
       "        vertical-align: middle;\n",
       "    }\n",
       "\n",
       "    .dataframe tbody tr th {\n",
       "        vertical-align: top;\n",
       "    }\n",
       "\n",
       "    .dataframe thead th {\n",
       "        text-align: right;\n",
       "    }\n",
       "</style>\n",
       "<table border=\"1\" class=\"dataframe\">\n",
       "  <thead>\n",
       "    <tr style=\"text-align: right;\">\n",
       "      <th></th>\n",
       "      <th>item_id</th>\n",
       "      <th>waist</th>\n",
       "      <th>size</th>\n",
       "      <th>quality</th>\n",
       "      <th>cup_size</th>\n",
       "      <th>hips</th>\n",
       "      <th>bra_size</th>\n",
       "      <th>category</th>\n",
       "      <th>bust</th>\n",
       "      <th>height</th>\n",
       "      <th>user_name</th>\n",
       "      <th>length</th>\n",
       "      <th>fit</th>\n",
       "      <th>user_id</th>\n",
       "      <th>shoe_size</th>\n",
       "      <th>shoe_width</th>\n",
       "      <th>review_summary</th>\n",
       "      <th>review_text</th>\n",
       "    </tr>\n",
       "  </thead>\n",
       "  <tbody>\n",
       "    <tr>\n",
       "      <th>3</th>\n",
       "      <td>123373</td>\n",
       "      <td>NaN</td>\n",
       "      <td>21</td>\n",
       "      <td>5.0</td>\n",
       "      <td>dd/e</td>\n",
       "      <td>NaN</td>\n",
       "      <td>Unknown</td>\n",
       "      <td>new</td>\n",
       "      <td>0</td>\n",
       "      <td>NaN</td>\n",
       "      <td>alexmeyer626</td>\n",
       "      <td>just right</td>\n",
       "      <td>fit</td>\n",
       "      <td>875643</td>\n",
       "      <td>NaN</td>\n",
       "      <td>NaN</td>\n",
       "      <td>NaN</td>\n",
       "      <td>NaN</td>\n",
       "    </tr>\n",
       "    <tr>\n",
       "      <th>17</th>\n",
       "      <td>123373</td>\n",
       "      <td>NaN</td>\n",
       "      <td>15</td>\n",
       "      <td>4.0</td>\n",
       "      <td>dddd/g</td>\n",
       "      <td>NaN</td>\n",
       "      <td>36.0</td>\n",
       "      <td>new</td>\n",
       "      <td>0</td>\n",
       "      <td>NaN</td>\n",
       "      <td>Megan</td>\n",
       "      <td>just right</td>\n",
       "      <td>large</td>\n",
       "      <td>128353</td>\n",
       "      <td>NaN</td>\n",
       "      <td>NaN</td>\n",
       "      <td>NaN</td>\n",
       "      <td>NaN</td>\n",
       "    </tr>\n",
       "    <tr>\n",
       "      <th>43</th>\n",
       "      <td>123373</td>\n",
       "      <td>NaN</td>\n",
       "      <td>15</td>\n",
       "      <td>5.0</td>\n",
       "      <td>dd/e</td>\n",
       "      <td>NaN</td>\n",
       "      <td>36.0</td>\n",
       "      <td>new</td>\n",
       "      <td>0</td>\n",
       "      <td>NaN</td>\n",
       "      <td>sdhewey</td>\n",
       "      <td>just right</td>\n",
       "      <td>fit</td>\n",
       "      <td>670919</td>\n",
       "      <td>NaN</td>\n",
       "      <td>NaN</td>\n",
       "      <td>NaN</td>\n",
       "      <td>NaN</td>\n",
       "    </tr>\n",
       "    <tr>\n",
       "      <th>73</th>\n",
       "      <td>124124</td>\n",
       "      <td>NaN</td>\n",
       "      <td>20</td>\n",
       "      <td>4.0</td>\n",
       "      <td>c</td>\n",
       "      <td>NaN</td>\n",
       "      <td>38.0</td>\n",
       "      <td>new</td>\n",
       "      <td>0</td>\n",
       "      <td>NaN</td>\n",
       "      <td>Fiorella</td>\n",
       "      <td>just right</td>\n",
       "      <td>large</td>\n",
       "      <td>816504</td>\n",
       "      <td>NaN</td>\n",
       "      <td>NaN</td>\n",
       "      <td>NaN</td>\n",
       "      <td>NaN</td>\n",
       "    </tr>\n",
       "    <tr>\n",
       "      <th>131</th>\n",
       "      <td>124124</td>\n",
       "      <td>NaN</td>\n",
       "      <td>12</td>\n",
       "      <td>3.0</td>\n",
       "      <td>c</td>\n",
       "      <td>NaN</td>\n",
       "      <td>36.0</td>\n",
       "      <td>new</td>\n",
       "      <td>0</td>\n",
       "      <td>NaN</td>\n",
       "      <td>jmcrowder.1124</td>\n",
       "      <td>very short</td>\n",
       "      <td>fit</td>\n",
       "      <td>846091</td>\n",
       "      <td>NaN</td>\n",
       "      <td>NaN</td>\n",
       "      <td>NaN</td>\n",
       "      <td>NaN</td>\n",
       "    </tr>\n",
       "    <tr>\n",
       "      <th>213</th>\n",
       "      <td>124124</td>\n",
       "      <td>NaN</td>\n",
       "      <td>20</td>\n",
       "      <td>4.0</td>\n",
       "      <td>d</td>\n",
       "      <td>NaN</td>\n",
       "      <td>40.0</td>\n",
       "      <td>new</td>\n",
       "      <td>0</td>\n",
       "      <td>NaN</td>\n",
       "      <td>rhea_heather</td>\n",
       "      <td>just right</td>\n",
       "      <td>fit</td>\n",
       "      <td>121007</td>\n",
       "      <td>NaN</td>\n",
       "      <td>NaN</td>\n",
       "      <td>NaN</td>\n",
       "      <td>NaN</td>\n",
       "    </tr>\n",
       "    <tr>\n",
       "      <th>382</th>\n",
       "      <td>125442</td>\n",
       "      <td>NaN</td>\n",
       "      <td>5</td>\n",
       "      <td>5.0</td>\n",
       "      <td>b</td>\n",
       "      <td>NaN</td>\n",
       "      <td>34.0</td>\n",
       "      <td>new</td>\n",
       "      <td>0</td>\n",
       "      <td>NaN</td>\n",
       "      <td>kelsi.flatland</td>\n",
       "      <td>just right</td>\n",
       "      <td>large</td>\n",
       "      <td>5752</td>\n",
       "      <td>NaN</td>\n",
       "      <td>NaN</td>\n",
       "      <td>NaN</td>\n",
       "      <td>NaN</td>\n",
       "    </tr>\n",
       "    <tr>\n",
       "      <th>423</th>\n",
       "      <td>125442</td>\n",
       "      <td>NaN</td>\n",
       "      <td>7</td>\n",
       "      <td>5.0</td>\n",
       "      <td>c</td>\n",
       "      <td>NaN</td>\n",
       "      <td>34.0</td>\n",
       "      <td>new</td>\n",
       "      <td>0</td>\n",
       "      <td>NaN</td>\n",
       "      <td>Naomi</td>\n",
       "      <td>just right</td>\n",
       "      <td>fit</td>\n",
       "      <td>563612</td>\n",
       "      <td>NaN</td>\n",
       "      <td>NaN</td>\n",
       "      <td>NaN</td>\n",
       "      <td>NaN</td>\n",
       "    </tr>\n",
       "    <tr>\n",
       "      <th>456</th>\n",
       "      <td>125442</td>\n",
       "      <td>NaN</td>\n",
       "      <td>7</td>\n",
       "      <td>5.0</td>\n",
       "      <td>b</td>\n",
       "      <td>NaN</td>\n",
       "      <td>38.0</td>\n",
       "      <td>new</td>\n",
       "      <td>0</td>\n",
       "      <td>NaN</td>\n",
       "      <td>shirawzn</td>\n",
       "      <td>just right</td>\n",
       "      <td>fit</td>\n",
       "      <td>968605</td>\n",
       "      <td>NaN</td>\n",
       "      <td>NaN</td>\n",
       "      <td>NaN</td>\n",
       "      <td>NaN</td>\n",
       "    </tr>\n",
       "    <tr>\n",
       "      <th>475</th>\n",
       "      <td>125442</td>\n",
       "      <td>NaN</td>\n",
       "      <td>7</td>\n",
       "      <td>5.0</td>\n",
       "      <td>dd/e</td>\n",
       "      <td>36.0</td>\n",
       "      <td>30.0</td>\n",
       "      <td>new</td>\n",
       "      <td>0</td>\n",
       "      <td>NaN</td>\n",
       "      <td>Ingrid</td>\n",
       "      <td>just right</td>\n",
       "      <td>small</td>\n",
       "      <td>940714</td>\n",
       "      <td>NaN</td>\n",
       "      <td>NaN</td>\n",
       "      <td>NaN</td>\n",
       "      <td>NaN</td>\n",
       "    </tr>\n",
       "    <tr>\n",
       "      <th>543</th>\n",
       "      <td>125442</td>\n",
       "      <td>NaN</td>\n",
       "      <td>9</td>\n",
       "      <td>4.0</td>\n",
       "      <td>dd/e</td>\n",
       "      <td>NaN</td>\n",
       "      <td>34.0</td>\n",
       "      <td>new</td>\n",
       "      <td>0</td>\n",
       "      <td>NaN</td>\n",
       "      <td>lesleylucas11</td>\n",
       "      <td>just right</td>\n",
       "      <td>fit</td>\n",
       "      <td>412182</td>\n",
       "      <td>NaN</td>\n",
       "      <td>NaN</td>\n",
       "      <td>NaN</td>\n",
       "      <td>NaN</td>\n",
       "    </tr>\n",
       "    <tr>\n",
       "      <th>553</th>\n",
       "      <td>125442</td>\n",
       "      <td>NaN</td>\n",
       "      <td>7</td>\n",
       "      <td>5.0</td>\n",
       "      <td>Unknown</td>\n",
       "      <td>NaN</td>\n",
       "      <td>Unknown</td>\n",
       "      <td>new</td>\n",
       "      <td>0</td>\n",
       "      <td>NaN</td>\n",
       "      <td>sharonpeporter</td>\n",
       "      <td>slightly long</td>\n",
       "      <td>fit</td>\n",
       "      <td>461540</td>\n",
       "      <td>7.0</td>\n",
       "      <td>average</td>\n",
       "      <td>NaN</td>\n",
       "      <td>NaN</td>\n",
       "    </tr>\n",
       "    <tr>\n",
       "      <th>591</th>\n",
       "      <td>125442</td>\n",
       "      <td>NaN</td>\n",
       "      <td>7</td>\n",
       "      <td>3.0</td>\n",
       "      <td>Unknown</td>\n",
       "      <td>NaN</td>\n",
       "      <td>Unknown</td>\n",
       "      <td>new</td>\n",
       "      <td>0</td>\n",
       "      <td>NaN</td>\n",
       "      <td>julia.burch</td>\n",
       "      <td>slightly short</td>\n",
       "      <td>small</td>\n",
       "      <td>675878</td>\n",
       "      <td>8.5</td>\n",
       "      <td>narrow</td>\n",
       "      <td>NaN</td>\n",
       "      <td>NaN</td>\n",
       "    </tr>\n",
       "    <tr>\n",
       "      <th>631</th>\n",
       "      <td>125442</td>\n",
       "      <td>NaN</td>\n",
       "      <td>9</td>\n",
       "      <td>5.0</td>\n",
       "      <td>c</td>\n",
       "      <td>NaN</td>\n",
       "      <td>34.0</td>\n",
       "      <td>new</td>\n",
       "      <td>0</td>\n",
       "      <td>NaN</td>\n",
       "      <td>aedwyer92</td>\n",
       "      <td>just right</td>\n",
       "      <td>large</td>\n",
       "      <td>724483</td>\n",
       "      <td>8.5</td>\n",
       "      <td>wide</td>\n",
       "      <td>NaN</td>\n",
       "      <td>NaN</td>\n",
       "    </tr>\n",
       "    <tr>\n",
       "      <th>665</th>\n",
       "      <td>125442</td>\n",
       "      <td>NaN</td>\n",
       "      <td>7</td>\n",
       "      <td>5.0</td>\n",
       "      <td>Unknown</td>\n",
       "      <td>NaN</td>\n",
       "      <td>Unknown</td>\n",
       "      <td>new</td>\n",
       "      <td>0</td>\n",
       "      <td>NaN</td>\n",
       "      <td>Kate</td>\n",
       "      <td>slightly short</td>\n",
       "      <td>fit</td>\n",
       "      <td>131784</td>\n",
       "      <td>9.5</td>\n",
       "      <td>wide</td>\n",
       "      <td>NaN</td>\n",
       "      <td>NaN</td>\n",
       "    </tr>\n",
       "    <tr>\n",
       "      <th>775</th>\n",
       "      <td>125442</td>\n",
       "      <td>NaN</td>\n",
       "      <td>13</td>\n",
       "      <td>3.0</td>\n",
       "      <td>d</td>\n",
       "      <td>NaN</td>\n",
       "      <td>38.0</td>\n",
       "      <td>new</td>\n",
       "      <td>0</td>\n",
       "      <td>NaN</td>\n",
       "      <td>Samantha</td>\n",
       "      <td>just right</td>\n",
       "      <td>fit</td>\n",
       "      <td>443301</td>\n",
       "      <td>NaN</td>\n",
       "      <td>NaN</td>\n",
       "      <td>NaN</td>\n",
       "      <td>NaN</td>\n",
       "    </tr>\n",
       "    <tr>\n",
       "      <th>785</th>\n",
       "      <td>125442</td>\n",
       "      <td>NaN</td>\n",
       "      <td>9</td>\n",
       "      <td>4.0</td>\n",
       "      <td>d</td>\n",
       "      <td>NaN</td>\n",
       "      <td>38.0</td>\n",
       "      <td>new</td>\n",
       "      <td>0</td>\n",
       "      <td>NaN</td>\n",
       "      <td>Gypsy</td>\n",
       "      <td>just right</td>\n",
       "      <td>fit</td>\n",
       "      <td>361453</td>\n",
       "      <td>NaN</td>\n",
       "      <td>NaN</td>\n",
       "      <td>NaN</td>\n",
       "      <td>NaN</td>\n",
       "    </tr>\n",
       "    <tr>\n",
       "      <th>864</th>\n",
       "      <td>125442</td>\n",
       "      <td>NaN</td>\n",
       "      <td>9</td>\n",
       "      <td>3.0</td>\n",
       "      <td>d</td>\n",
       "      <td>NaN</td>\n",
       "      <td>34.0</td>\n",
       "      <td>new</td>\n",
       "      <td>0</td>\n",
       "      <td>NaN</td>\n",
       "      <td>Aleece</td>\n",
       "      <td>just right</td>\n",
       "      <td>fit</td>\n",
       "      <td>530376</td>\n",
       "      <td>NaN</td>\n",
       "      <td>NaN</td>\n",
       "      <td>NaN</td>\n",
       "      <td>NaN</td>\n",
       "    </tr>\n",
       "    <tr>\n",
       "      <th>908</th>\n",
       "      <td>125442</td>\n",
       "      <td>NaN</td>\n",
       "      <td>13</td>\n",
       "      <td>2.0</td>\n",
       "      <td>Unknown</td>\n",
       "      <td>NaN</td>\n",
       "      <td>Unknown</td>\n",
       "      <td>new</td>\n",
       "      <td>0</td>\n",
       "      <td>NaN</td>\n",
       "      <td>Tallulah</td>\n",
       "      <td>slightly short</td>\n",
       "      <td>fit</td>\n",
       "      <td>198731</td>\n",
       "      <td>8.5</td>\n",
       "      <td>average</td>\n",
       "      <td>NaN</td>\n",
       "      <td>NaN</td>\n",
       "    </tr>\n",
       "    <tr>\n",
       "      <th>1189</th>\n",
       "      <td>126885</td>\n",
       "      <td>NaN</td>\n",
       "      <td>20</td>\n",
       "      <td>4.0</td>\n",
       "      <td>Unknown</td>\n",
       "      <td>NaN</td>\n",
       "      <td>Unknown</td>\n",
       "      <td>new</td>\n",
       "      <td>0</td>\n",
       "      <td>NaN</td>\n",
       "      <td>celinemaslard</td>\n",
       "      <td>just right</td>\n",
       "      <td>fit</td>\n",
       "      <td>295466</td>\n",
       "      <td>8.5</td>\n",
       "      <td>NaN</td>\n",
       "      <td>NaN</td>\n",
       "      <td>NaN</td>\n",
       "    </tr>\n",
       "  </tbody>\n",
       "</table>\n",
       "</div>"
      ],
      "text/plain": [
       "      item_id  waist  size  quality cup_size  hips bra_size category  bust  \\\n",
       "3      123373    NaN    21      5.0     dd/e   NaN  Unknown      new     0   \n",
       "17     123373    NaN    15      4.0   dddd/g   NaN     36.0      new     0   \n",
       "43     123373    NaN    15      5.0     dd/e   NaN     36.0      new     0   \n",
       "73     124124    NaN    20      4.0        c   NaN     38.0      new     0   \n",
       "131    124124    NaN    12      3.0        c   NaN     36.0      new     0   \n",
       "213    124124    NaN    20      4.0        d   NaN     40.0      new     0   \n",
       "382    125442    NaN     5      5.0        b   NaN     34.0      new     0   \n",
       "423    125442    NaN     7      5.0        c   NaN     34.0      new     0   \n",
       "456    125442    NaN     7      5.0        b   NaN     38.0      new     0   \n",
       "475    125442    NaN     7      5.0     dd/e  36.0     30.0      new     0   \n",
       "543    125442    NaN     9      4.0     dd/e   NaN     34.0      new     0   \n",
       "553    125442    NaN     7      5.0  Unknown   NaN  Unknown      new     0   \n",
       "591    125442    NaN     7      3.0  Unknown   NaN  Unknown      new     0   \n",
       "631    125442    NaN     9      5.0        c   NaN     34.0      new     0   \n",
       "665    125442    NaN     7      5.0  Unknown   NaN  Unknown      new     0   \n",
       "775    125442    NaN    13      3.0        d   NaN     38.0      new     0   \n",
       "785    125442    NaN     9      4.0        d   NaN     38.0      new     0   \n",
       "864    125442    NaN     9      3.0        d   NaN     34.0      new     0   \n",
       "908    125442    NaN    13      2.0  Unknown   NaN  Unknown      new     0   \n",
       "1189   126885    NaN    20      4.0  Unknown   NaN  Unknown      new     0   \n",
       "\n",
       "      height       user_name          length    fit  user_id  shoe_size  \\\n",
       "3        NaN    alexmeyer626      just right    fit   875643        NaN   \n",
       "17       NaN           Megan      just right  large   128353        NaN   \n",
       "43       NaN         sdhewey      just right    fit   670919        NaN   \n",
       "73       NaN        Fiorella      just right  large   816504        NaN   \n",
       "131      NaN  jmcrowder.1124      very short    fit   846091        NaN   \n",
       "213      NaN    rhea_heather      just right    fit   121007        NaN   \n",
       "382      NaN  kelsi.flatland      just right  large     5752        NaN   \n",
       "423      NaN           Naomi      just right    fit   563612        NaN   \n",
       "456      NaN        shirawzn      just right    fit   968605        NaN   \n",
       "475      NaN          Ingrid      just right  small   940714        NaN   \n",
       "543      NaN   lesleylucas11      just right    fit   412182        NaN   \n",
       "553      NaN  sharonpeporter   slightly long    fit   461540        7.0   \n",
       "591      NaN     julia.burch  slightly short  small   675878        8.5   \n",
       "631      NaN       aedwyer92      just right  large   724483        8.5   \n",
       "665      NaN            Kate  slightly short    fit   131784        9.5   \n",
       "775      NaN        Samantha      just right    fit   443301        NaN   \n",
       "785      NaN           Gypsy      just right    fit   361453        NaN   \n",
       "864      NaN          Aleece      just right    fit   530376        NaN   \n",
       "908      NaN        Tallulah  slightly short    fit   198731        8.5   \n",
       "1189     NaN   celinemaslard      just right    fit   295466        8.5   \n",
       "\n",
       "     shoe_width review_summary review_text  \n",
       "3           NaN            NaN         NaN  \n",
       "17          NaN            NaN         NaN  \n",
       "43          NaN            NaN         NaN  \n",
       "73          NaN            NaN         NaN  \n",
       "131         NaN            NaN         NaN  \n",
       "213         NaN            NaN         NaN  \n",
       "382         NaN            NaN         NaN  \n",
       "423         NaN            NaN         NaN  \n",
       "456         NaN            NaN         NaN  \n",
       "475         NaN            NaN         NaN  \n",
       "543         NaN            NaN         NaN  \n",
       "553     average            NaN         NaN  \n",
       "591      narrow            NaN         NaN  \n",
       "631        wide            NaN         NaN  \n",
       "665        wide            NaN         NaN  \n",
       "775         NaN            NaN         NaN  \n",
       "785         NaN            NaN         NaN  \n",
       "864         NaN            NaN         NaN  \n",
       "908     average            NaN         NaN  \n",
       "1189        NaN            NaN         NaN  "
      ]
     },
     "execution_count": 53,
     "metadata": {},
     "output_type": "execute_result"
    }
   ],
   "source": [
    "df[df.height.isnull()].head(20)"
   ]
  },
  {
   "cell_type": "markdown",
   "id": "707ce014",
   "metadata": {},
   "source": [
    "##IMPORTANT OBSERVATION : Some customers have given bra_size, cup_size data whereas all other measurements are empty making them possible first time purchase at store for lingerie or bra"
   ]
  },
  {
   "cell_type": "markdown",
   "id": "fc5f6260",
   "metadata": {},
   "source": [
    "Similarly , some have given shoe Size and all other data is missing possibly they have purchased shoes from the store"
   ]
  },
  {
   "cell_type": "markdown",
   "id": "42ccfb56",
   "metadata": {},
   "source": [
    "# Adding new column first_time_user"
   ]
  },
  {
   "cell_type": "markdown",
   "id": "c98d7fba",
   "metadata": {},
   "source": [
    "from here i will identify the transactions that are first time users"
   ]
  },
  {
   "cell_type": "markdown",
   "id": "0d65bd3f",
   "metadata": {},
   "source": [
    "##LOGIC : 1)bra_size,cup_size given rest data missing \n",
    "2)shoe_size given rest data missing\n",
    "3)hips,waist given rest data missing"
   ]
  },
  {
   "cell_type": "code",
   "execution_count": 57,
   "id": "42a06430",
   "metadata": {},
   "outputs": [
    {
     "data": {
      "text/html": [
       "<div>\n",
       "<style scoped>\n",
       "    .dataframe tbody tr th:only-of-type {\n",
       "        vertical-align: middle;\n",
       "    }\n",
       "\n",
       "    .dataframe tbody tr th {\n",
       "        vertical-align: top;\n",
       "    }\n",
       "\n",
       "    .dataframe thead th {\n",
       "        text-align: right;\n",
       "    }\n",
       "</style>\n",
       "<table border=\"1\" class=\"dataframe\">\n",
       "  <thead>\n",
       "    <tr style=\"text-align: right;\">\n",
       "      <th></th>\n",
       "      <th>item_id</th>\n",
       "      <th>waist</th>\n",
       "      <th>size</th>\n",
       "      <th>quality</th>\n",
       "      <th>cup_size</th>\n",
       "      <th>hips</th>\n",
       "      <th>bra_size</th>\n",
       "      <th>category</th>\n",
       "      <th>bust</th>\n",
       "      <th>height</th>\n",
       "      <th>user_name</th>\n",
       "      <th>length</th>\n",
       "      <th>fit</th>\n",
       "      <th>user_id</th>\n",
       "      <th>shoe_size</th>\n",
       "      <th>shoe_width</th>\n",
       "      <th>review_summary</th>\n",
       "      <th>review_text</th>\n",
       "    </tr>\n",
       "  </thead>\n",
       "  <tbody>\n",
       "    <tr>\n",
       "      <th>3</th>\n",
       "      <td>123373</td>\n",
       "      <td>NaN</td>\n",
       "      <td>21</td>\n",
       "      <td>5.0</td>\n",
       "      <td>dd/e</td>\n",
       "      <td>NaN</td>\n",
       "      <td>Unknown</td>\n",
       "      <td>new</td>\n",
       "      <td>0</td>\n",
       "      <td>NaN</td>\n",
       "      <td>alexmeyer626</td>\n",
       "      <td>just right</td>\n",
       "      <td>fit</td>\n",
       "      <td>875643</td>\n",
       "      <td>NaN</td>\n",
       "      <td>NaN</td>\n",
       "      <td>NaN</td>\n",
       "      <td>NaN</td>\n",
       "    </tr>\n",
       "    <tr>\n",
       "      <th>17</th>\n",
       "      <td>123373</td>\n",
       "      <td>NaN</td>\n",
       "      <td>15</td>\n",
       "      <td>4.0</td>\n",
       "      <td>dddd/g</td>\n",
       "      <td>NaN</td>\n",
       "      <td>36.0</td>\n",
       "      <td>new</td>\n",
       "      <td>0</td>\n",
       "      <td>NaN</td>\n",
       "      <td>Megan</td>\n",
       "      <td>just right</td>\n",
       "      <td>large</td>\n",
       "      <td>128353</td>\n",
       "      <td>NaN</td>\n",
       "      <td>NaN</td>\n",
       "      <td>NaN</td>\n",
       "      <td>NaN</td>\n",
       "    </tr>\n",
       "    <tr>\n",
       "      <th>43</th>\n",
       "      <td>123373</td>\n",
       "      <td>NaN</td>\n",
       "      <td>15</td>\n",
       "      <td>5.0</td>\n",
       "      <td>dd/e</td>\n",
       "      <td>NaN</td>\n",
       "      <td>36.0</td>\n",
       "      <td>new</td>\n",
       "      <td>0</td>\n",
       "      <td>NaN</td>\n",
       "      <td>sdhewey</td>\n",
       "      <td>just right</td>\n",
       "      <td>fit</td>\n",
       "      <td>670919</td>\n",
       "      <td>NaN</td>\n",
       "      <td>NaN</td>\n",
       "      <td>NaN</td>\n",
       "      <td>NaN</td>\n",
       "    </tr>\n",
       "    <tr>\n",
       "      <th>73</th>\n",
       "      <td>124124</td>\n",
       "      <td>NaN</td>\n",
       "      <td>20</td>\n",
       "      <td>4.0</td>\n",
       "      <td>c</td>\n",
       "      <td>NaN</td>\n",
       "      <td>38.0</td>\n",
       "      <td>new</td>\n",
       "      <td>0</td>\n",
       "      <td>NaN</td>\n",
       "      <td>Fiorella</td>\n",
       "      <td>just right</td>\n",
       "      <td>large</td>\n",
       "      <td>816504</td>\n",
       "      <td>NaN</td>\n",
       "      <td>NaN</td>\n",
       "      <td>NaN</td>\n",
       "      <td>NaN</td>\n",
       "    </tr>\n",
       "    <tr>\n",
       "      <th>131</th>\n",
       "      <td>124124</td>\n",
       "      <td>NaN</td>\n",
       "      <td>12</td>\n",
       "      <td>3.0</td>\n",
       "      <td>c</td>\n",
       "      <td>NaN</td>\n",
       "      <td>36.0</td>\n",
       "      <td>new</td>\n",
       "      <td>0</td>\n",
       "      <td>NaN</td>\n",
       "      <td>jmcrowder.1124</td>\n",
       "      <td>very short</td>\n",
       "      <td>fit</td>\n",
       "      <td>846091</td>\n",
       "      <td>NaN</td>\n",
       "      <td>NaN</td>\n",
       "      <td>NaN</td>\n",
       "      <td>NaN</td>\n",
       "    </tr>\n",
       "  </tbody>\n",
       "</table>\n",
       "</div>"
      ],
      "text/plain": [
       "     item_id  waist  size  quality cup_size  hips bra_size category  bust  \\\n",
       "3     123373    NaN    21      5.0     dd/e   NaN  Unknown      new     0   \n",
       "17    123373    NaN    15      4.0   dddd/g   NaN     36.0      new     0   \n",
       "43    123373    NaN    15      5.0     dd/e   NaN     36.0      new     0   \n",
       "73    124124    NaN    20      4.0        c   NaN     38.0      new     0   \n",
       "131   124124    NaN    12      3.0        c   NaN     36.0      new     0   \n",
       "\n",
       "     height       user_name      length    fit  user_id  shoe_size shoe_width  \\\n",
       "3       NaN    alexmeyer626  just right    fit   875643        NaN        NaN   \n",
       "17      NaN           Megan  just right  large   128353        NaN        NaN   \n",
       "43      NaN         sdhewey  just right    fit   670919        NaN        NaN   \n",
       "73      NaN        Fiorella  just right  large   816504        NaN        NaN   \n",
       "131     NaN  jmcrowder.1124  very short    fit   846091        NaN        NaN   \n",
       "\n",
       "    review_summary review_text  \n",
       "3              NaN         NaN  \n",
       "17             NaN         NaN  \n",
       "43             NaN         NaN  \n",
       "73             NaN         NaN  \n",
       "131            NaN         NaN  "
      ]
     },
     "execution_count": 57,
     "metadata": {},
     "output_type": "execute_result"
    }
   ],
   "source": [
    "df[((df.bra_size != 'Unknown') | (df.cup_size != 'Unknown')) &\n",
    "   (df.height.isnull())&(df.hips.isnull())&(df.shoe_size.isnull())&(df.shoe_width.isnull())&(df.waist.isnull())].head(5)"
   ]
  },
  {
   "cell_type": "code",
   "execution_count": 58,
   "id": "8fd5eff7",
   "metadata": {},
   "outputs": [
    {
     "data": {
      "text/html": [
       "<div>\n",
       "<style scoped>\n",
       "    .dataframe tbody tr th:only-of-type {\n",
       "        vertical-align: middle;\n",
       "    }\n",
       "\n",
       "    .dataframe tbody tr th {\n",
       "        vertical-align: top;\n",
       "    }\n",
       "\n",
       "    .dataframe thead th {\n",
       "        text-align: right;\n",
       "    }\n",
       "</style>\n",
       "<table border=\"1\" class=\"dataframe\">\n",
       "  <thead>\n",
       "    <tr style=\"text-align: right;\">\n",
       "      <th></th>\n",
       "      <th>item_id</th>\n",
       "      <th>waist</th>\n",
       "      <th>size</th>\n",
       "      <th>quality</th>\n",
       "      <th>cup_size</th>\n",
       "      <th>hips</th>\n",
       "      <th>bra_size</th>\n",
       "      <th>category</th>\n",
       "      <th>bust</th>\n",
       "      <th>height</th>\n",
       "      <th>user_name</th>\n",
       "      <th>length</th>\n",
       "      <th>fit</th>\n",
       "      <th>user_id</th>\n",
       "      <th>shoe_size</th>\n",
       "      <th>shoe_width</th>\n",
       "      <th>review_summary</th>\n",
       "      <th>review_text</th>\n",
       "    </tr>\n",
       "  </thead>\n",
       "  <tbody>\n",
       "    <tr>\n",
       "      <th>553</th>\n",
       "      <td>125442</td>\n",
       "      <td>NaN</td>\n",
       "      <td>7</td>\n",
       "      <td>5.0</td>\n",
       "      <td>Unknown</td>\n",
       "      <td>NaN</td>\n",
       "      <td>Unknown</td>\n",
       "      <td>new</td>\n",
       "      <td>0</td>\n",
       "      <td>NaN</td>\n",
       "      <td>sharonpeporter</td>\n",
       "      <td>slightly long</td>\n",
       "      <td>fit</td>\n",
       "      <td>461540</td>\n",
       "      <td>7.0</td>\n",
       "      <td>average</td>\n",
       "      <td>NaN</td>\n",
       "      <td>NaN</td>\n",
       "    </tr>\n",
       "    <tr>\n",
       "      <th>591</th>\n",
       "      <td>125442</td>\n",
       "      <td>NaN</td>\n",
       "      <td>7</td>\n",
       "      <td>3.0</td>\n",
       "      <td>Unknown</td>\n",
       "      <td>NaN</td>\n",
       "      <td>Unknown</td>\n",
       "      <td>new</td>\n",
       "      <td>0</td>\n",
       "      <td>NaN</td>\n",
       "      <td>julia.burch</td>\n",
       "      <td>slightly short</td>\n",
       "      <td>small</td>\n",
       "      <td>675878</td>\n",
       "      <td>8.5</td>\n",
       "      <td>narrow</td>\n",
       "      <td>NaN</td>\n",
       "      <td>NaN</td>\n",
       "    </tr>\n",
       "    <tr>\n",
       "      <th>665</th>\n",
       "      <td>125442</td>\n",
       "      <td>NaN</td>\n",
       "      <td>7</td>\n",
       "      <td>5.0</td>\n",
       "      <td>Unknown</td>\n",
       "      <td>NaN</td>\n",
       "      <td>Unknown</td>\n",
       "      <td>new</td>\n",
       "      <td>0</td>\n",
       "      <td>NaN</td>\n",
       "      <td>Kate</td>\n",
       "      <td>slightly short</td>\n",
       "      <td>fit</td>\n",
       "      <td>131784</td>\n",
       "      <td>9.5</td>\n",
       "      <td>wide</td>\n",
       "      <td>NaN</td>\n",
       "      <td>NaN</td>\n",
       "    </tr>\n",
       "    <tr>\n",
       "      <th>908</th>\n",
       "      <td>125442</td>\n",
       "      <td>NaN</td>\n",
       "      <td>13</td>\n",
       "      <td>2.0</td>\n",
       "      <td>Unknown</td>\n",
       "      <td>NaN</td>\n",
       "      <td>Unknown</td>\n",
       "      <td>new</td>\n",
       "      <td>0</td>\n",
       "      <td>NaN</td>\n",
       "      <td>Tallulah</td>\n",
       "      <td>slightly short</td>\n",
       "      <td>fit</td>\n",
       "      <td>198731</td>\n",
       "      <td>8.5</td>\n",
       "      <td>average</td>\n",
       "      <td>NaN</td>\n",
       "      <td>NaN</td>\n",
       "    </tr>\n",
       "    <tr>\n",
       "      <th>1189</th>\n",
       "      <td>126885</td>\n",
       "      <td>NaN</td>\n",
       "      <td>20</td>\n",
       "      <td>4.0</td>\n",
       "      <td>Unknown</td>\n",
       "      <td>NaN</td>\n",
       "      <td>Unknown</td>\n",
       "      <td>new</td>\n",
       "      <td>0</td>\n",
       "      <td>NaN</td>\n",
       "      <td>celinemaslard</td>\n",
       "      <td>just right</td>\n",
       "      <td>fit</td>\n",
       "      <td>295466</td>\n",
       "      <td>8.5</td>\n",
       "      <td>NaN</td>\n",
       "      <td>NaN</td>\n",
       "      <td>NaN</td>\n",
       "    </tr>\n",
       "  </tbody>\n",
       "</table>\n",
       "</div>"
      ],
      "text/plain": [
       "      item_id  waist  size  quality cup_size  hips bra_size category  bust  \\\n",
       "553    125442    NaN     7      5.0  Unknown   NaN  Unknown      new     0   \n",
       "591    125442    NaN     7      3.0  Unknown   NaN  Unknown      new     0   \n",
       "665    125442    NaN     7      5.0  Unknown   NaN  Unknown      new     0   \n",
       "908    125442    NaN    13      2.0  Unknown   NaN  Unknown      new     0   \n",
       "1189   126885    NaN    20      4.0  Unknown   NaN  Unknown      new     0   \n",
       "\n",
       "      height       user_name          length    fit  user_id  shoe_size  \\\n",
       "553      NaN  sharonpeporter   slightly long    fit   461540        7.0   \n",
       "591      NaN     julia.burch  slightly short  small   675878        8.5   \n",
       "665      NaN            Kate  slightly short    fit   131784        9.5   \n",
       "908      NaN        Tallulah  slightly short    fit   198731        8.5   \n",
       "1189     NaN   celinemaslard      just right    fit   295466        8.5   \n",
       "\n",
       "     shoe_width review_summary review_text  \n",
       "553     average            NaN         NaN  \n",
       "591      narrow            NaN         NaN  \n",
       "665        wide            NaN         NaN  \n",
       "908     average            NaN         NaN  \n",
       "1189        NaN            NaN         NaN  "
      ]
     },
     "execution_count": 58,
     "metadata": {},
     "output_type": "execute_result"
    }
   ],
   "source": [
    "df[(df.bra_size=='Unknown')&(df.cup_size =='Unknown')&(df.height.isnull())&(df.hips.isnull())&\n",
    "   ((df.shoe_size.notnull()) | (df.shoe_width.notnull())) & (df.waist.isnull())].head(5)"
   ]
  },
  {
   "cell_type": "code",
   "execution_count": 59,
   "id": "cd320194",
   "metadata": {},
   "outputs": [
    {
     "data": {
      "text/html": [
       "<div>\n",
       "<style scoped>\n",
       "    .dataframe tbody tr th:only-of-type {\n",
       "        vertical-align: middle;\n",
       "    }\n",
       "\n",
       "    .dataframe tbody tr th {\n",
       "        vertical-align: top;\n",
       "    }\n",
       "\n",
       "    .dataframe thead th {\n",
       "        text-align: right;\n",
       "    }\n",
       "</style>\n",
       "<table border=\"1\" class=\"dataframe\">\n",
       "  <thead>\n",
       "    <tr style=\"text-align: right;\">\n",
       "      <th></th>\n",
       "      <th>item_id</th>\n",
       "      <th>waist</th>\n",
       "      <th>size</th>\n",
       "      <th>quality</th>\n",
       "      <th>cup_size</th>\n",
       "      <th>hips</th>\n",
       "      <th>bra_size</th>\n",
       "      <th>category</th>\n",
       "      <th>bust</th>\n",
       "      <th>height</th>\n",
       "      <th>user_name</th>\n",
       "      <th>length</th>\n",
       "      <th>fit</th>\n",
       "      <th>user_id</th>\n",
       "      <th>shoe_size</th>\n",
       "      <th>shoe_width</th>\n",
       "      <th>review_summary</th>\n",
       "      <th>review_text</th>\n",
       "    </tr>\n",
       "  </thead>\n",
       "  <tbody>\n",
       "    <tr>\n",
       "      <th>2364</th>\n",
       "      <td>131020</td>\n",
       "      <td>NaN</td>\n",
       "      <td>11</td>\n",
       "      <td>5.0</td>\n",
       "      <td>Unknown</td>\n",
       "      <td>39.0</td>\n",
       "      <td>Unknown</td>\n",
       "      <td>new</td>\n",
       "      <td>0</td>\n",
       "      <td>NaN</td>\n",
       "      <td>aislinnalysse</td>\n",
       "      <td>just right</td>\n",
       "      <td>fit</td>\n",
       "      <td>259712</td>\n",
       "      <td>NaN</td>\n",
       "      <td>NaN</td>\n",
       "      <td>NaN</td>\n",
       "      <td>NaN</td>\n",
       "    </tr>\n",
       "    <tr>\n",
       "      <th>3568</th>\n",
       "      <td>143287</td>\n",
       "      <td>NaN</td>\n",
       "      <td>12</td>\n",
       "      <td>5.0</td>\n",
       "      <td>Unknown</td>\n",
       "      <td>41.0</td>\n",
       "      <td>Unknown</td>\n",
       "      <td>new</td>\n",
       "      <td>38</td>\n",
       "      <td>NaN</td>\n",
       "      <td>a.stahle</td>\n",
       "      <td>just right</td>\n",
       "      <td>fit</td>\n",
       "      <td>300915</td>\n",
       "      <td>NaN</td>\n",
       "      <td>NaN</td>\n",
       "      <td>NaN</td>\n",
       "      <td>NaN</td>\n",
       "    </tr>\n",
       "    <tr>\n",
       "      <th>8714</th>\n",
       "      <td>161514</td>\n",
       "      <td>NaN</td>\n",
       "      <td>26</td>\n",
       "      <td>5.0</td>\n",
       "      <td>Unknown</td>\n",
       "      <td>58.0</td>\n",
       "      <td>Unknown</td>\n",
       "      <td>dresses</td>\n",
       "      <td>0</td>\n",
       "      <td>NaN</td>\n",
       "      <td>foxlindseyfox</td>\n",
       "      <td>just right</td>\n",
       "      <td>fit</td>\n",
       "      <td>817544</td>\n",
       "      <td>NaN</td>\n",
       "      <td>NaN</td>\n",
       "      <td>I wore this dress when I</td>\n",
       "      <td>I wore this dress when I was in a friend's wed...</td>\n",
       "    </tr>\n",
       "  </tbody>\n",
       "</table>\n",
       "</div>"
      ],
      "text/plain": [
       "      item_id  waist  size  quality cup_size  hips bra_size category  bust  \\\n",
       "2364   131020    NaN    11      5.0  Unknown  39.0  Unknown      new     0   \n",
       "3568   143287    NaN    12      5.0  Unknown  41.0  Unknown      new    38   \n",
       "8714   161514    NaN    26      5.0  Unknown  58.0  Unknown  dresses     0   \n",
       "\n",
       "      height      user_name      length  fit  user_id  shoe_size shoe_width  \\\n",
       "2364     NaN  aislinnalysse  just right  fit   259712        NaN        NaN   \n",
       "3568     NaN       a.stahle  just right  fit   300915        NaN        NaN   \n",
       "8714     NaN  foxlindseyfox  just right  fit   817544        NaN        NaN   \n",
       "\n",
       "                review_summary  \\\n",
       "2364                       NaN   \n",
       "3568                       NaN   \n",
       "8714  I wore this dress when I   \n",
       "\n",
       "                                            review_text  \n",
       "2364                                                NaN  \n",
       "3568                                                NaN  \n",
       "8714  I wore this dress when I was in a friend's wed...  "
      ]
     },
     "execution_count": 59,
     "metadata": {},
     "output_type": "execute_result"
    }
   ],
   "source": [
    "df[(df.bra_size == 'Unknown') & (df.cup_size == 'Unknown') & (df.height.isnull()) & ((df.hips.notnull()) | (df.waist.notnull())) &\n",
    "     (df.shoe_size.isnull()) & (df.shoe_width.isnull())].head(3)"
   ]
  },
  {
   "cell_type": "markdown",
   "id": "0160c0bb",
   "metadata": {},
   "source": [
    "Will add new column if any of the above condition is true then will consider it new user transaction"
   ]
  },
  {
   "cell_type": "code",
   "execution_count": 73,
   "id": "4ccdf6a9",
   "metadata": {},
   "outputs": [
    {
     "data": {
      "text/html": [
       "<div>\n",
       "<style scoped>\n",
       "    .dataframe tbody tr th:only-of-type {\n",
       "        vertical-align: middle;\n",
       "    }\n",
       "\n",
       "    .dataframe tbody tr th {\n",
       "        vertical-align: top;\n",
       "    }\n",
       "\n",
       "    .dataframe thead th {\n",
       "        text-align: right;\n",
       "    }\n",
       "</style>\n",
       "<table border=\"1\" class=\"dataframe\">\n",
       "  <thead>\n",
       "    <tr style=\"text-align: right;\">\n",
       "      <th></th>\n",
       "      <th>item_id</th>\n",
       "      <th>waist</th>\n",
       "      <th>size</th>\n",
       "      <th>quality</th>\n",
       "      <th>cup_size</th>\n",
       "      <th>hips</th>\n",
       "      <th>bra_size</th>\n",
       "      <th>category</th>\n",
       "      <th>bust</th>\n",
       "      <th>height</th>\n",
       "      <th>user_name</th>\n",
       "      <th>length</th>\n",
       "      <th>fit</th>\n",
       "      <th>user_id</th>\n",
       "      <th>shoe_size</th>\n",
       "      <th>shoe_width</th>\n",
       "      <th>review_summary</th>\n",
       "      <th>review_text</th>\n",
       "      <th>first_time_user</th>\n",
       "    </tr>\n",
       "  </thead>\n",
       "  <tbody>\n",
       "    <tr>\n",
       "      <th>0</th>\n",
       "      <td>123373</td>\n",
       "      <td>29.0</td>\n",
       "      <td>7</td>\n",
       "      <td>5.0</td>\n",
       "      <td>d</td>\n",
       "      <td>38.0</td>\n",
       "      <td>34.0</td>\n",
       "      <td>new</td>\n",
       "      <td>36</td>\n",
       "      <td>167.64</td>\n",
       "      <td>Emily</td>\n",
       "      <td>just right</td>\n",
       "      <td>small</td>\n",
       "      <td>991571</td>\n",
       "      <td>NaN</td>\n",
       "      <td>NaN</td>\n",
       "      <td>NaN</td>\n",
       "      <td>NaN</td>\n",
       "      <td>False</td>\n",
       "    </tr>\n",
       "    <tr>\n",
       "      <th>1</th>\n",
       "      <td>123373</td>\n",
       "      <td>31.0</td>\n",
       "      <td>13</td>\n",
       "      <td>3.0</td>\n",
       "      <td>b</td>\n",
       "      <td>30.0</td>\n",
       "      <td>36.0</td>\n",
       "      <td>new</td>\n",
       "      <td>0</td>\n",
       "      <td>157.48</td>\n",
       "      <td>sydneybraden2001</td>\n",
       "      <td>just right</td>\n",
       "      <td>small</td>\n",
       "      <td>587883</td>\n",
       "      <td>NaN</td>\n",
       "      <td>NaN</td>\n",
       "      <td>NaN</td>\n",
       "      <td>NaN</td>\n",
       "      <td>False</td>\n",
       "    </tr>\n",
       "    <tr>\n",
       "      <th>2</th>\n",
       "      <td>123373</td>\n",
       "      <td>30.0</td>\n",
       "      <td>7</td>\n",
       "      <td>2.0</td>\n",
       "      <td>b</td>\n",
       "      <td>NaN</td>\n",
       "      <td>32.0</td>\n",
       "      <td>new</td>\n",
       "      <td>0</td>\n",
       "      <td>170.18</td>\n",
       "      <td>Ugggh</td>\n",
       "      <td>slightly long</td>\n",
       "      <td>small</td>\n",
       "      <td>395665</td>\n",
       "      <td>9.0</td>\n",
       "      <td>NaN</td>\n",
       "      <td>NaN</td>\n",
       "      <td>NaN</td>\n",
       "      <td>False</td>\n",
       "    </tr>\n",
       "    <tr>\n",
       "      <th>3</th>\n",
       "      <td>123373</td>\n",
       "      <td>NaN</td>\n",
       "      <td>21</td>\n",
       "      <td>5.0</td>\n",
       "      <td>dd/e</td>\n",
       "      <td>NaN</td>\n",
       "      <td>Unknown</td>\n",
       "      <td>new</td>\n",
       "      <td>0</td>\n",
       "      <td>NaN</td>\n",
       "      <td>alexmeyer626</td>\n",
       "      <td>just right</td>\n",
       "      <td>fit</td>\n",
       "      <td>875643</td>\n",
       "      <td>NaN</td>\n",
       "      <td>NaN</td>\n",
       "      <td>NaN</td>\n",
       "      <td>NaN</td>\n",
       "      <td>True</td>\n",
       "    </tr>\n",
       "    <tr>\n",
       "      <th>4</th>\n",
       "      <td>123373</td>\n",
       "      <td>NaN</td>\n",
       "      <td>18</td>\n",
       "      <td>5.0</td>\n",
       "      <td>b</td>\n",
       "      <td>NaN</td>\n",
       "      <td>36.0</td>\n",
       "      <td>new</td>\n",
       "      <td>0</td>\n",
       "      <td>157.48</td>\n",
       "      <td>dberrones1</td>\n",
       "      <td>slightly long</td>\n",
       "      <td>small</td>\n",
       "      <td>944840</td>\n",
       "      <td>NaN</td>\n",
       "      <td>NaN</td>\n",
       "      <td>NaN</td>\n",
       "      <td>NaN</td>\n",
       "      <td>False</td>\n",
       "    </tr>\n",
       "  </tbody>\n",
       "</table>\n",
       "</div>"
      ],
      "text/plain": [
       "   item_id  waist  size  quality cup_size  hips bra_size category  bust  \\\n",
       "0   123373   29.0     7      5.0        d  38.0     34.0      new    36   \n",
       "1   123373   31.0    13      3.0        b  30.0     36.0      new     0   \n",
       "2   123373   30.0     7      2.0        b   NaN     32.0      new     0   \n",
       "3   123373    NaN    21      5.0     dd/e   NaN  Unknown      new     0   \n",
       "4   123373    NaN    18      5.0        b   NaN     36.0      new     0   \n",
       "\n",
       "   height         user_name         length    fit  user_id  shoe_size  \\\n",
       "0  167.64             Emily     just right  small   991571        NaN   \n",
       "1  157.48  sydneybraden2001     just right  small   587883        NaN   \n",
       "2  170.18             Ugggh  slightly long  small   395665        9.0   \n",
       "3     NaN      alexmeyer626     just right    fit   875643        NaN   \n",
       "4  157.48        dberrones1  slightly long  small   944840        NaN   \n",
       "\n",
       "  shoe_width review_summary review_text  first_time_user  \n",
       "0        NaN            NaN         NaN            False  \n",
       "1        NaN            NaN         NaN            False  \n",
       "2        NaN            NaN         NaN            False  \n",
       "3        NaN            NaN         NaN             True  \n",
       "4        NaN            NaN         NaN            False  "
      ]
     },
     "execution_count": 73,
     "metadata": {},
     "output_type": "execute_result"
    }
   ],
   "source": [
    "lingerie_cond = (((df.bra_size != 'Unknown') | (df.cup_size != 'Unknown')) & (df.height.isnull()) & (df.hips.isnull()) &\n",
    "     (df.shoe_size.isnull()) & (df.shoe_width.isnull()) & (df.waist.isnull()))\n",
    "shoe_cond = ((df.bra_size == 'Unknown') & (df.cup_size == 'Unknown') & (df.height.isnull()) & (df.hips.isnull()) &\n",
    "     ((df.shoe_size.notnull()) | (df.shoe_width.notnull())) & (df.waist.isnull()))\n",
    "dress_cond = ((df.bra_size == 'Unknown') & (df.cup_size == 'Unknown') & (df.height.isnull()) & ((df.hips.notnull()) | (df.waist.notnull())) &\n",
    "     (df.shoe_size.isnull()) & (df.shoe_width.isnull()))\n",
    "\n",
    "df['first_time_user'] = (lingerie_cond | shoe_cond | dress_cond)\n",
    "df.head()"
   ]
  },
  {
   "cell_type": "markdown",
   "id": "5b5aa8cd",
   "metadata": {},
   "source": [
    "Hell yeah !!!!!! :D"
   ]
  },
  {
   "cell_type": "code",
   "execution_count": 74,
   "id": "f9cbf520",
   "metadata": {},
   "outputs": [
    {
     "name": "stdout",
     "output_type": "stream",
     "text": [
      "Total first time users: 565\n"
     ]
    }
   ],
   "source": [
    "print(\"Total first time users: \" + str(len(df[(lingerie_cond | shoe_cond | dress_cond)].user_id.unique())))"
   ]
  },
  {
   "cell_type": "markdown",
   "id": "8c8c6698",
   "metadata": {},
   "source": [
    "length column has only 35 missing rows so can be deleted"
   ]
  },
  {
   "cell_type": "code",
   "execution_count": 75,
   "id": "5713813f",
   "metadata": {},
   "outputs": [],
   "source": [
    "missing_rows = df[df.length.isnull()].index\n",
    "df.drop(missing_rows, axis = 0, inplace=True)"
   ]
  },
  {
   "cell_type": "code",
   "execution_count": 77,
   "id": "fa5938d6",
   "metadata": {},
   "outputs": [
    {
     "data": {
      "text/plain": [
       "(82755, 19)"
      ]
     },
     "execution_count": 77,
     "metadata": {},
     "output_type": "execute_result"
    }
   ],
   "source": [
    "df.shape"
   ]
  },
  {
   "cell_type": "markdown",
   "id": "f07a1deb",
   "metadata": {},
   "source": [
    "same goes for quality"
   ]
  },
  {
   "cell_type": "code",
   "execution_count": 78,
   "id": "2461efd2",
   "metadata": {},
   "outputs": [],
   "source": [
    "missing_rows = df[df.quality.isnull()].index\n",
    "df.drop(missing_rows, axis = 0, inplace=True)\n",
    "df.quality = df.quality.astype('category').cat.as_ordered()"
   ]
  },
  {
   "cell_type": "code",
   "execution_count": 79,
   "id": "e82b2bc2",
   "metadata": {},
   "outputs": [
    {
     "data": {
      "text/plain": [
       "(82697, 19)"
      ]
     },
     "execution_count": 79,
     "metadata": {},
     "output_type": "execute_result"
    }
   ],
   "source": [
    "df.shape"
   ]
  },
  {
   "cell_type": "code",
   "execution_count": 80,
   "id": "6de2adf8",
   "metadata": {},
   "outputs": [],
   "source": [
    "df.review_summary = df.review_summary.fillna('Unknown')\n",
    "df.review_text = df.review_text.fillna('Unkown')"
   ]
  },
  {
   "cell_type": "code",
   "execution_count": 81,
   "id": "e1e8b742",
   "metadata": {},
   "outputs": [],
   "source": [
    "df.drop(['waist', 'bust', 'user_name'], axis=1, inplace=True)"
   ]
  },
  {
   "cell_type": "code",
   "execution_count": 82,
   "id": "8c229f93",
   "metadata": {},
   "outputs": [
    {
     "data": {
      "text/html": [
       "<div>\n",
       "<style scoped>\n",
       "    .dataframe tbody tr th:only-of-type {\n",
       "        vertical-align: middle;\n",
       "    }\n",
       "\n",
       "    .dataframe tbody tr th {\n",
       "        vertical-align: top;\n",
       "    }\n",
       "\n",
       "    .dataframe thead th {\n",
       "        text-align: right;\n",
       "    }\n",
       "</style>\n",
       "<table border=\"1\" class=\"dataframe\">\n",
       "  <thead>\n",
       "    <tr style=\"text-align: right;\">\n",
       "      <th></th>\n",
       "      <th>item_id</th>\n",
       "      <th>size</th>\n",
       "      <th>quality</th>\n",
       "      <th>cup_size</th>\n",
       "      <th>hips</th>\n",
       "      <th>bra_size</th>\n",
       "      <th>category</th>\n",
       "      <th>height</th>\n",
       "      <th>length</th>\n",
       "      <th>fit</th>\n",
       "      <th>user_id</th>\n",
       "      <th>shoe_size</th>\n",
       "      <th>shoe_width</th>\n",
       "      <th>review_summary</th>\n",
       "      <th>review_text</th>\n",
       "      <th>first_time_user</th>\n",
       "    </tr>\n",
       "  </thead>\n",
       "  <tbody>\n",
       "    <tr>\n",
       "      <th>0</th>\n",
       "      <td>123373</td>\n",
       "      <td>7</td>\n",
       "      <td>5.0</td>\n",
       "      <td>d</td>\n",
       "      <td>38.0</td>\n",
       "      <td>34.0</td>\n",
       "      <td>new</td>\n",
       "      <td>167.64</td>\n",
       "      <td>just right</td>\n",
       "      <td>small</td>\n",
       "      <td>991571</td>\n",
       "      <td>NaN</td>\n",
       "      <td>NaN</td>\n",
       "      <td>Unknown</td>\n",
       "      <td>Unkown</td>\n",
       "      <td>False</td>\n",
       "    </tr>\n",
       "    <tr>\n",
       "      <th>1</th>\n",
       "      <td>123373</td>\n",
       "      <td>13</td>\n",
       "      <td>3.0</td>\n",
       "      <td>b</td>\n",
       "      <td>30.0</td>\n",
       "      <td>36.0</td>\n",
       "      <td>new</td>\n",
       "      <td>157.48</td>\n",
       "      <td>just right</td>\n",
       "      <td>small</td>\n",
       "      <td>587883</td>\n",
       "      <td>NaN</td>\n",
       "      <td>NaN</td>\n",
       "      <td>Unknown</td>\n",
       "      <td>Unkown</td>\n",
       "      <td>False</td>\n",
       "    </tr>\n",
       "    <tr>\n",
       "      <th>2</th>\n",
       "      <td>123373</td>\n",
       "      <td>7</td>\n",
       "      <td>2.0</td>\n",
       "      <td>b</td>\n",
       "      <td>NaN</td>\n",
       "      <td>32.0</td>\n",
       "      <td>new</td>\n",
       "      <td>170.18</td>\n",
       "      <td>slightly long</td>\n",
       "      <td>small</td>\n",
       "      <td>395665</td>\n",
       "      <td>9.0</td>\n",
       "      <td>NaN</td>\n",
       "      <td>Unknown</td>\n",
       "      <td>Unkown</td>\n",
       "      <td>False</td>\n",
       "    </tr>\n",
       "    <tr>\n",
       "      <th>3</th>\n",
       "      <td>123373</td>\n",
       "      <td>21</td>\n",
       "      <td>5.0</td>\n",
       "      <td>dd/e</td>\n",
       "      <td>NaN</td>\n",
       "      <td>Unknown</td>\n",
       "      <td>new</td>\n",
       "      <td>NaN</td>\n",
       "      <td>just right</td>\n",
       "      <td>fit</td>\n",
       "      <td>875643</td>\n",
       "      <td>NaN</td>\n",
       "      <td>NaN</td>\n",
       "      <td>Unknown</td>\n",
       "      <td>Unkown</td>\n",
       "      <td>True</td>\n",
       "    </tr>\n",
       "    <tr>\n",
       "      <th>4</th>\n",
       "      <td>123373</td>\n",
       "      <td>18</td>\n",
       "      <td>5.0</td>\n",
       "      <td>b</td>\n",
       "      <td>NaN</td>\n",
       "      <td>36.0</td>\n",
       "      <td>new</td>\n",
       "      <td>157.48</td>\n",
       "      <td>slightly long</td>\n",
       "      <td>small</td>\n",
       "      <td>944840</td>\n",
       "      <td>NaN</td>\n",
       "      <td>NaN</td>\n",
       "      <td>Unknown</td>\n",
       "      <td>Unkown</td>\n",
       "      <td>False</td>\n",
       "    </tr>\n",
       "  </tbody>\n",
       "</table>\n",
       "</div>"
      ],
      "text/plain": [
       "   item_id  size quality cup_size  hips bra_size category  height  \\\n",
       "0   123373     7     5.0        d  38.0     34.0      new  167.64   \n",
       "1   123373    13     3.0        b  30.0     36.0      new  157.48   \n",
       "2   123373     7     2.0        b   NaN     32.0      new  170.18   \n",
       "3   123373    21     5.0     dd/e   NaN  Unknown      new     NaN   \n",
       "4   123373    18     5.0        b   NaN     36.0      new  157.48   \n",
       "\n",
       "          length    fit  user_id  shoe_size shoe_width review_summary  \\\n",
       "0     just right  small   991571        NaN        NaN        Unknown   \n",
       "1     just right  small   587883        NaN        NaN        Unknown   \n",
       "2  slightly long  small   395665        9.0        NaN        Unknown   \n",
       "3     just right    fit   875643        NaN        NaN        Unknown   \n",
       "4  slightly long  small   944840        NaN        NaN        Unknown   \n",
       "\n",
       "  review_text  first_time_user  \n",
       "0      Unkown            False  \n",
       "1      Unkown            False  \n",
       "2      Unkown            False  \n",
       "3      Unkown             True  \n",
       "4      Unkown            False  "
      ]
     },
     "execution_count": 82,
     "metadata": {},
     "output_type": "execute_result"
    }
   ],
   "source": [
    "df.head()"
   ]
  },
  {
   "cell_type": "markdown",
   "id": "ec30b3ce",
   "metadata": {},
   "source": [
    "shoe_size has around 66% misiing data , cant remove , filling NA, converting to categorical"
   ]
  },
  {
   "cell_type": "code",
   "execution_count": 84,
   "id": "857908d6",
   "metadata": {},
   "outputs": [],
   "source": [
    "from pandas.api.types import CategoricalDtype\n",
    "shoe_widths_type = CategoricalDtype(categories=['Unknown','narrow','average','wide'], ordered=True)\n",
    "\n",
    "df.shoe_size = df.shoe_size.fillna('Unknown')\n",
    "df.shoe_size = df.shoe_size.astype('category').cat.as_ordered()\n",
    "df.shoe_width = df.shoe_width.fillna('Unknown')\n",
    "df.shoe_width = df.shoe_width.astype(shoe_widths_type)"
   ]
  },
  {
   "cell_type": "code",
   "execution_count": 85,
   "id": "50b97f3c",
   "metadata": {
    "scrolled": true
   },
   "outputs": [
    {
     "name": "stdout",
     "output_type": "stream",
     "text": [
      "<class 'pandas.core.frame.DataFrame'>\n",
      "Int64Index: 81594 entries, 0 to 82789\n",
      "Data columns (total 16 columns):\n",
      " #   Column           Non-Null Count  Dtype   \n",
      "---  ------           --------------  -----   \n",
      " 0   item_id          81594 non-null  int64   \n",
      " 1   size             81594 non-null  int64   \n",
      " 2   quality          81594 non-null  category\n",
      " 3   cup_size         81594 non-null  category\n",
      " 4   hips             55783 non-null  float64 \n",
      " 5   bra_size         81594 non-null  category\n",
      " 6   category         81594 non-null  category\n",
      " 7   height           81594 non-null  float64 \n",
      " 8   length           81594 non-null  object  \n",
      " 9   fit              81594 non-null  category\n",
      " 10  user_id          81594 non-null  int64   \n",
      " 11  shoe_size        81594 non-null  category\n",
      " 12  shoe_width       81594 non-null  category\n",
      " 13  review_summary   81594 non-null  object  \n",
      " 14  review_text      81594 non-null  object  \n",
      " 15  first_time_user  81594 non-null  bool    \n",
      "dtypes: bool(1), category(7), float64(2), int64(3), object(3)\n",
      "memory usage: 6.2+ MB\n"
     ]
    }
   ],
   "source": [
    "df.info()"
   ]
  },
  {
   "cell_type": "code",
   "execution_count": 86,
   "id": "a035fa7e",
   "metadata": {},
   "outputs": [],
   "source": [
    "df.hips = df.hips.fillna(-1.0)\n",
    "bins = [-5,0,31,37,40,44,75]\n",
    "labels = ['Unknown','XS','S','M', 'L','XL']\n",
    "df.hips = pd.cut(df.hips, bins, labels=labels)"
   ]
  },
  {
   "cell_type": "markdown",
   "id": "35c5a3b6",
   "metadata": {},
   "source": [
    "ABOUT pd.cut() :  https://pandas.pydata.org/docs/reference/api/pandas.cut.html"
   ]
  },
  {
   "cell_type": "code",
   "execution_count": 87,
   "id": "f0286bfd",
   "metadata": {},
   "outputs": [
    {
     "name": "stdout",
     "output_type": "stream",
     "text": [
      "<class 'pandas.core.frame.DataFrame'>\n",
      "Int64Index: 81594 entries, 0 to 82789\n",
      "Data columns (total 16 columns):\n",
      " #   Column           Non-Null Count  Dtype   \n",
      "---  ------           --------------  -----   \n",
      " 0   item_id          81594 non-null  int64   \n",
      " 1   size             81594 non-null  int64   \n",
      " 2   quality          81594 non-null  category\n",
      " 3   cup_size         81594 non-null  category\n",
      " 4   hips             81594 non-null  category\n",
      " 5   bra_size         81594 non-null  category\n",
      " 6   category         81594 non-null  category\n",
      " 7   height           81594 non-null  float64 \n",
      " 8   length           81594 non-null  object  \n",
      " 9   fit              81594 non-null  category\n",
      " 10  user_id          81594 non-null  int64   \n",
      " 11  shoe_size        81594 non-null  category\n",
      " 12  shoe_width       81594 non-null  category\n",
      " 13  review_summary   81594 non-null  object  \n",
      " 14  review_text      81594 non-null  object  \n",
      " 15  first_time_user  81594 non-null  bool    \n",
      "dtypes: bool(1), category(8), float64(1), int64(3), object(3)\n",
      "memory usage: 5.7+ MB\n"
     ]
    }
   ],
   "source": [
    "df.info()"
   ]
  },
  {
   "cell_type": "markdown",
   "id": "012c8799",
   "metadata": {},
   "source": [
    "no more null values "
   ]
  },
  {
   "cell_type": "markdown",
   "id": "214a5d21",
   "metadata": {},
   "source": [
    "# EDA via Vizualization"
   ]
  },
  {
   "cell_type": "code",
   "execution_count": 92,
   "id": "ec56746e",
   "metadata": {},
   "outputs": [],
   "source": [
    "import numpy as np"
   ]
  },
  {
   "cell_type": "code",
   "execution_count": 97,
   "id": "0e9ad5d7",
   "metadata": {},
   "outputs": [],
   "source": [
    "\n",
    "def plot_barh(df,col, cmap = None, stacked=False, norm = None):\n",
    "    df.plot(kind='barh', colormap=cmap, stacked=stacked)\n",
    "    fig = plt.gcf()\n",
    "    fig.set_size_inches(24,12)\n",
    "    plt.title(\"Category vs {}-feedback -   {}\".format(col, '(Normalized)' if norm else ''), fontsize= 20)\n",
    "    plt.ylabel('Category', fontsize = 18)\n",
    "    plot = plt.xlabel('Frequency', fontsize=18)\n",
    "    \n",
    "def norm_counts(t):\n",
    "    norms = np.linalg.norm(t.fillna(0), axis=1)\n",
    "    t_norm = t[0:0]\n",
    "    for row, euc in zip(t.iterrows(), norms):\n",
    "        t_norm.loc[row[0]] = list(map(lambda x: x/euc, list(row[1])))\n",
    "    return t_norm"
   ]
  },
  {
   "cell_type": "code",
   "execution_count": 98,
   "id": "4e9743b3",
   "metadata": {},
   "outputs": [
    {
     "data": {
      "text/plain": [
       "new          21177\n",
       "tops         20048\n",
       "dresses      18402\n",
       "bottoms      15047\n",
       "outerwear     4180\n",
       "sale          2469\n",
       "wedding        271\n",
       "Name: category, dtype: int64"
      ]
     },
     "execution_count": 98,
     "metadata": {},
     "output_type": "execute_result"
    }
   ],
   "source": [
    "df.category.value_counts()"
   ]
  },
  {
   "cell_type": "code",
   "execution_count": 99,
   "id": "92a09a6c",
   "metadata": {},
   "outputs": [
    {
     "name": "stderr",
     "output_type": "stream",
     "text": [
      "C:\\Users\\DVASWANI\\AppData\\Local\\Temp\\ipykernel_22564\\491384212.py:13: SettingWithCopyWarning: \n",
      "A value is trying to be set on a copy of a slice from a DataFrame\n",
      "\n",
      "See the caveats in the documentation: https://pandas.pydata.org/pandas-docs/stable/user_guide/indexing.html#returning-a-view-versus-a-copy\n",
      "  t_norm.loc[row[0]] = list(map(lambda x: x/euc, list(row[1])))\n",
      "C:\\Users\\DVASWANI\\AppData\\Local\\Temp\\ipykernel_22564\\491384212.py:13: SettingWithCopyWarning: \n",
      "A value is trying to be set on a copy of a slice from a DataFrame\n",
      "\n",
      "See the caveats in the documentation: https://pandas.pydata.org/pandas-docs/stable/user_guide/indexing.html#returning-a-view-versus-a-copy\n",
      "  t_norm.loc[row[0]] = list(map(lambda x: x/euc, list(row[1])))\n",
      "C:\\Users\\DVASWANI\\AppData\\Local\\Temp\\ipykernel_22564\\491384212.py:13: SettingWithCopyWarning: \n",
      "A value is trying to be set on a copy of a slice from a DataFrame\n",
      "\n",
      "See the caveats in the documentation: https://pandas.pydata.org/pandas-docs/stable/user_guide/indexing.html#returning-a-view-versus-a-copy\n",
      "  t_norm.loc[row[0]] = list(map(lambda x: x/euc, list(row[1])))\n",
      "C:\\Users\\DVASWANI\\AppData\\Local\\Temp\\ipykernel_22564\\491384212.py:13: SettingWithCopyWarning: \n",
      "A value is trying to be set on a copy of a slice from a DataFrame\n",
      "\n",
      "See the caveats in the documentation: https://pandas.pydata.org/pandas-docs/stable/user_guide/indexing.html#returning-a-view-versus-a-copy\n",
      "  t_norm.loc[row[0]] = list(map(lambda x: x/euc, list(row[1])))\n",
      "C:\\Users\\DVASWANI\\AppData\\Local\\Temp\\ipykernel_22564\\491384212.py:13: SettingWithCopyWarning: \n",
      "A value is trying to be set on a copy of a slice from a DataFrame\n",
      "\n",
      "See the caveats in the documentation: https://pandas.pydata.org/pandas-docs/stable/user_guide/indexing.html#returning-a-view-versus-a-copy\n",
      "  t_norm.loc[row[0]] = list(map(lambda x: x/euc, list(row[1])))\n",
      "C:\\Users\\DVASWANI\\AppData\\Local\\Temp\\ipykernel_22564\\491384212.py:13: SettingWithCopyWarning: \n",
      "A value is trying to be set on a copy of a slice from a DataFrame\n",
      "\n",
      "See the caveats in the documentation: https://pandas.pydata.org/pandas-docs/stable/user_guide/indexing.html#returning-a-view-versus-a-copy\n",
      "  t_norm.loc[row[0]] = list(map(lambda x: x/euc, list(row[1])))\n"
     ]
    },
    {
     "data": {
      "image/png": "[encoded data removed]",
      "text/plain": [
       "<Figure size 1728x864 with 1 Axes>"
      ]
     },
     "metadata": {
      "needs_background": "light"
     },
     "output_type": "display_data"
    }
   ],
   "source": [
    "g_by_category = df.groupby('category')\n",
    "cat_fit = g_by_category['fit'].value_counts()\n",
    "cat_fit = cat_fit.unstack()\n",
    "cat_fit_norm = norm_counts(cat_fit)\n",
    "cat_fit_norm.drop(['fit'], axis=1, inplace=True)\n",
    "plot_barh(cat_fit, 'fit')"
   ]
  },
  {
   "cell_type": "markdown",
   "id": "6c0e1646",
   "metadata": {},
   "source": [
    "most of the dresses were fit we can see"
   ]
  },
  {
   "cell_type": "code",
   "execution_count": 100,
   "id": "df02fdaf",
   "metadata": {},
   "outputs": [
    {
     "data": {
      "image/png": "[encoded data removed]",
      "text/plain": [
       "<Figure size 1728x864 with 1 Axes>"
      ]
     },
     "metadata": {
      "needs_background": "light"
     },
     "output_type": "display_data"
    }
   ],
   "source": [
    "plot_barh(cat_fit_norm, 'fit', norm=1, cmap='Set3')"
   ]
  },
  {
   "cell_type": "markdown",
   "id": "64bd0299",
   "metadata": {},
   "source": [
    "1 ) Wedding, tops, & outerwear categories usually have more returns due to large sizing.\n",
    "2)  New, sale, & bottoms usually have frequent returns due to small sized buys"
   ]
  },
  {
   "cell_type": "markdown",
   "id": "1e478a18",
   "metadata": {},
   "source": [
    "CATEGORY VS LENGTH"
   ]
  },
  {
   "cell_type": "code",
   "execution_count": 102,
   "id": "85d0418c",
   "metadata": {},
   "outputs": [
    {
     "data": {
      "image/png": "[encoded data removed]",
      "text/plain": [
       "<Figure size 1728x864 with 1 Axes>"
      ]
     },
     "metadata": {
      "needs_background": "light"
     },
     "output_type": "display_data"
    }
   ],
   "source": [
    "cat_len = g_by_category['length'].value_counts()\n",
    "cat_len = cat_len.unstack()\n",
    "plot_barh(cat_len, 'length', 'Set3')"
   ]
  },
  {
   "cell_type": "markdown",
   "id": "95b32b92",
   "metadata": {},
   "source": [
    "Best length-fitting TRANSACTIONS belongs to tops, new, dresses and bottoms . also because of they combinely give us around 92% of all transactions"
   ]
  },
  {
   "cell_type": "code",
   "execution_count": 103,
   "id": "b15b9b3a",
   "metadata": {},
   "outputs": [
    {
     "name": "stderr",
     "output_type": "stream",
     "text": [
      "C:\\Users\\DVASWANI\\AppData\\Local\\Temp\\ipykernel_22564\\491384212.py:13: SettingWithCopyWarning: \n",
      "A value is trying to be set on a copy of a slice from a DataFrame\n",
      "\n",
      "See the caveats in the documentation: https://pandas.pydata.org/pandas-docs/stable/user_guide/indexing.html#returning-a-view-versus-a-copy\n",
      "  t_norm.loc[row[0]] = list(map(lambda x: x/euc, list(row[1])))\n",
      "C:\\Users\\DVASWANI\\AppData\\Local\\Temp\\ipykernel_22564\\491384212.py:13: SettingWithCopyWarning: \n",
      "A value is trying to be set on a copy of a slice from a DataFrame\n",
      "\n",
      "See the caveats in the documentation: https://pandas.pydata.org/pandas-docs/stable/user_guide/indexing.html#returning-a-view-versus-a-copy\n",
      "  t_norm.loc[row[0]] = list(map(lambda x: x/euc, list(row[1])))\n",
      "C:\\Users\\DVASWANI\\AppData\\Local\\Temp\\ipykernel_22564\\491384212.py:13: SettingWithCopyWarning: \n",
      "A value is trying to be set on a copy of a slice from a DataFrame\n",
      "\n",
      "See the caveats in the documentation: https://pandas.pydata.org/pandas-docs/stable/user_guide/indexing.html#returning-a-view-versus-a-copy\n",
      "  t_norm.loc[row[0]] = list(map(lambda x: x/euc, list(row[1])))\n",
      "C:\\Users\\DVASWANI\\AppData\\Local\\Temp\\ipykernel_22564\\491384212.py:13: SettingWithCopyWarning: \n",
      "A value is trying to be set on a copy of a slice from a DataFrame\n",
      "\n",
      "See the caveats in the documentation: https://pandas.pydata.org/pandas-docs/stable/user_guide/indexing.html#returning-a-view-versus-a-copy\n",
      "  t_norm.loc[row[0]] = list(map(lambda x: x/euc, list(row[1])))\n",
      "C:\\Users\\DVASWANI\\AppData\\Local\\Temp\\ipykernel_22564\\491384212.py:13: SettingWithCopyWarning: \n",
      "A value is trying to be set on a copy of a slice from a DataFrame\n",
      "\n",
      "See the caveats in the documentation: https://pandas.pydata.org/pandas-docs/stable/user_guide/indexing.html#returning-a-view-versus-a-copy\n",
      "  t_norm.loc[row[0]] = list(map(lambda x: x/euc, list(row[1])))\n",
      "C:\\Users\\DVASWANI\\AppData\\Local\\Temp\\ipykernel_22564\\491384212.py:13: SettingWithCopyWarning: \n",
      "A value is trying to be set on a copy of a slice from a DataFrame\n",
      "\n",
      "See the caveats in the documentation: https://pandas.pydata.org/pandas-docs/stable/user_guide/indexing.html#returning-a-view-versus-a-copy\n",
      "  t_norm.loc[row[0]] = list(map(lambda x: x/euc, list(row[1])))\n"
     ]
    },
    {
     "data": {
      "image/png": "[encoded data removed]",
      "text/plain": [
       "<Figure size 1728x864 with 1 Axes>"
      ]
     },
     "metadata": {
      "needs_background": "light"
     },
     "output_type": "display_data"
    }
   ],
   "source": [
    "cat_len_norm = norm_counts(cat_len)\n",
    "cat_len_norm.drop(['just right'], axis = 1, inplace=True)\n",
    "plot_barh(cat_len_norm, 'length', cmap='Set3', norm=1)"
   ]
  },
  {
   "cell_type": "markdown",
   "id": "769f7170",
   "metadata": {},
   "source": [
    "we are able to conclude that: Customers tend to make 'slightly long' purchases in bottoms, new, sale, & tops categories.\n",
    "'slightly short' returns take place mostly in dresses and wedding categories."
   ]
  },
  {
   "cell_type": "code",
   "execution_count": 104,
   "id": "3e926f1b",
   "metadata": {},
   "outputs": [
    {
     "data": {
      "image/png": "[encoded data removed]",
      "text/plain": [
       "<Figure size 1728x864 with 1 Axes>"
      ]
     },
     "metadata": {
      "needs_background": "light"
     },
     "output_type": "display_data"
    }
   ],
   "source": [
    "cat_quality = g_by_category['quality'].value_counts()\n",
    "cat_quality = cat_quality.unstack()\n",
    "plot_barh(cat_quality, 'quality', 'Set3', stacked=1)"
   ]
  },
  {
   "cell_type": "markdown",
   "id": "b3308753",
   "metadata": {},
   "source": [
    "All the trends in terms of share of ratings seems to be constant across categories"
   ]
  },
  {
   "cell_type": "code",
   "execution_count": 105,
   "id": "cfcd21cb",
   "metadata": {},
   "outputs": [
    {
     "name": "stderr",
     "output_type": "stream",
     "text": [
      "C:\\Users\\DVASWANI\\AppData\\Local\\Temp\\ipykernel_22564\\491384212.py:13: SettingWithCopyWarning: \n",
      "A value is trying to be set on a copy of a slice from a DataFrame\n",
      "\n",
      "See the caveats in the documentation: https://pandas.pydata.org/pandas-docs/stable/user_guide/indexing.html#returning-a-view-versus-a-copy\n",
      "  t_norm.loc[row[0]] = list(map(lambda x: x/euc, list(row[1])))\n",
      "C:\\Users\\DVASWANI\\AppData\\Local\\Temp\\ipykernel_22564\\491384212.py:13: SettingWithCopyWarning: \n",
      "A value is trying to be set on a copy of a slice from a DataFrame\n",
      "\n",
      "See the caveats in the documentation: https://pandas.pydata.org/pandas-docs/stable/user_guide/indexing.html#returning-a-view-versus-a-copy\n",
      "  t_norm.loc[row[0]] = list(map(lambda x: x/euc, list(row[1])))\n",
      "C:\\Users\\DVASWANI\\AppData\\Local\\Temp\\ipykernel_22564\\491384212.py:13: SettingWithCopyWarning: \n",
      "A value is trying to be set on a copy of a slice from a DataFrame\n",
      "\n",
      "See the caveats in the documentation: https://pandas.pydata.org/pandas-docs/stable/user_guide/indexing.html#returning-a-view-versus-a-copy\n",
      "  t_norm.loc[row[0]] = list(map(lambda x: x/euc, list(row[1])))\n",
      "C:\\Users\\DVASWANI\\AppData\\Local\\Temp\\ipykernel_22564\\491384212.py:13: SettingWithCopyWarning: \n",
      "A value is trying to be set on a copy of a slice from a DataFrame\n",
      "\n",
      "See the caveats in the documentation: https://pandas.pydata.org/pandas-docs/stable/user_guide/indexing.html#returning-a-view-versus-a-copy\n",
      "  t_norm.loc[row[0]] = list(map(lambda x: x/euc, list(row[1])))\n",
      "C:\\Users\\DVASWANI\\AppData\\Local\\Temp\\ipykernel_22564\\491384212.py:13: SettingWithCopyWarning: \n",
      "A value is trying to be set on a copy of a slice from a DataFrame\n",
      "\n",
      "See the caveats in the documentation: https://pandas.pydata.org/pandas-docs/stable/user_guide/indexing.html#returning-a-view-versus-a-copy\n",
      "  t_norm.loc[row[0]] = list(map(lambda x: x/euc, list(row[1])))\n",
      "C:\\Users\\DVASWANI\\AppData\\Local\\Temp\\ipykernel_22564\\491384212.py:13: SettingWithCopyWarning: \n",
      "A value is trying to be set on a copy of a slice from a DataFrame\n",
      "\n",
      "See the caveats in the documentation: https://pandas.pydata.org/pandas-docs/stable/user_guide/indexing.html#returning-a-view-versus-a-copy\n",
      "  t_norm.loc[row[0]] = list(map(lambda x: x/euc, list(row[1])))\n"
     ]
    },
    {
     "data": {
      "image/png": "[encoded data removed]",
      "text/plain": [
       "<Figure size 1728x864 with 1 Axes>"
      ]
     },
     "metadata": {
      "needs_background": "light"
     },
     "output_type": "display_data"
    }
   ],
   "source": [
    "cat_quality_norm = norm_counts(cat_quality)\n",
    "cat_quality_norm.drop([5.0], axis = 1, inplace=True)\n",
    "plot_barh(cat_quality_norm, 'quality', 'Set3', stacked=1, norm=1)"
   ]
  },
  {
   "cell_type": "markdown",
   "id": "496c26f7",
   "metadata": {},
   "source": [
    "# Total Number of Users vs Total Number of items bought"
   ]
  },
  {
   "cell_type": "code",
   "execution_count": 107,
   "id": "c4a723f3",
   "metadata": {},
   "outputs": [],
   "source": [
    "import seaborn as sns"
   ]
  },
  {
   "cell_type": "code",
   "execution_count": 108,
   "id": "5a62c7f3",
   "metadata": {},
   "outputs": [
    {
     "data": {
      "image/png": "[encoded data removed]",
      "text/plain": [
       "<Figure size 1440x720 with 1 Axes>"
      ]
     },
     "metadata": {
      "needs_background": "light"
     },
     "output_type": "display_data"
    }
   ],
   "source": [
    "items_bought = []\n",
    "total_users = []\n",
    "for i in range(min(df.user_id.value_counts()), max(df.user_id.value_counts())+1):\n",
    "    all_users = sum(df.user_id.value_counts() == i)\n",
    "    if all_users != 0:\n",
    "        total_users.append(all_users)\n",
    "        items_bought.append(i)\n",
    "plt.xlabel(\"Number of items bought\", fontsize = 18)\n",
    "plt.ylabel(\"Number of users\", fontsize = 18)\n",
    "plt.title(\"Distribution of items bought by users on Modcloth\")\n",
    "__ = sns.barplot(x=items_bought, y=total_users, color='y')\n",
    "fig = plt.gcf()\n",
    "fig.set_size_inches(20,10)"
   ]
  },
  {
   "cell_type": "markdown",
   "id": "fdd02397",
   "metadata": {},
   "source": [
    "more than 30000 transactions are of the users who bought only 1 item wich is around 38%"
   ]
  },
  {
   "cell_type": "markdown",
   "id": "4cecf6d0",
   "metadata": {},
   "source": [
    "Majority of people have bought either 1,2 or 3 items"
   ]
  },
  {
   "cell_type": "markdown",
   "id": "20a9d927",
   "metadata": {},
   "source": [
    "# Height vs shoe_size"
   ]
  },
  {
   "cell_type": "code",
   "execution_count": 109,
   "id": "c8b7ac6e",
   "metadata": {},
   "outputs": [
    {
     "data": {
      "image/png": "[encoded data removed]",
      "text/plain": [
       "<Figure size 1440x720 with 1 Axes>"
      ]
     },
     "metadata": {
      "needs_background": "light"
     },
     "output_type": "display_data"
    }
   ],
   "source": [
    "fig = plt.gcf()\n",
    "fig.set_size_inches(20,10)\n",
    "__ = sns.violinplot(x='shoe_size', y='height',data=df, size = 20)"
   ]
  },
  {
   "cell_type": "markdown",
   "id": "4019a2d5",
   "metadata": {},
   "source": [
    "expected linear relationship exists between Height and shoe_size"
   ]
  },
  {
   "cell_type": "markdown",
   "id": "b9ec6018",
   "metadata": {},
   "source": [
    "# FIRST EXPLORATORY DATA ANALYSIS"
   ]
  },
  {
   "cell_type": "code",
   "execution_count": null,
   "id": "3a3612ea",
   "metadata": {},
   "outputs": [],
   "source": []
  }
 ],
 "metadata": {
  "kernelspec": {
   "display_name": "Python 3 (ipykernel)",
   "language": "python",
   "name": "python3"
  },
  "language_info": {
   "codemirror_mode": {
    "name": "ipython",
    "version": 3
   },
   "file_extension": ".py",
   "mimetype": "text/x-python",
   "name": "python",
   "nbconvert_exporter": "python",
   "pygments_lexer": "ipython3",
   "version": "3.9.12"
  }
 },
 "nbformat": 4,
 "nbformat_minor": 5
}
